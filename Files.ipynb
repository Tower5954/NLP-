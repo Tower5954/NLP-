{
 "cells": [
  {
   "cell_type": "markdown",
   "id": "finite-equation",
   "metadata": {},
   "source": [
    "# Files\n",
    "\n",
    "Python uses file objects to interact with external files on your computer. These file objects can be any sort of file you have on your computer, whether it be an audio file, a text file, emails, Excel documents, etc. Note: You will probably need to install certain libraries or modules to interact with those various file types, but they are easily available. (We will cover downloading modules later on in the course).\n",
    "\n",
    "Python has a built-in open function that allows us to open and play with basic file types. First we will need a file though. We're going to use some IPython magic to create a text file!\n",
    "\n",
    "## Creating a File with IPython\n",
    "#### This function is specific to jupyter notebooks! Alternatively, quickly create a simple .txt file with Sublime text editor."
   ]
  },
  {
   "cell_type": "code",
   "execution_count": 1,
   "id": "dramatic-pixel",
   "metadata": {},
   "outputs": [
    {
     "name": "stdout",
     "output_type": "stream",
     "text": [
      "Writing text_test.txt\n"
     ]
    }
   ],
   "source": [
    "%%writefile text_test.txt \n",
    "In west Philidelphia, born and raised. \n",
    "On the playground is where I spent most of my days."
   ]
  },
  {
   "cell_type": "code",
   "execution_count": 2,
   "id": "important-thomas",
   "metadata": {},
   "outputs": [
    {
     "ename": "TypeError",
     "evalue": "open() missing required argument 'file' (pos 1)",
     "output_type": "error",
     "traceback": [
      "\u001b[0;31m---------------------------------------------------------------------------\u001b[0m",
      "\u001b[0;31mTypeError\u001b[0m                                 Traceback (most recent call last)",
      "\u001b[0;32m<ipython-input-2-83a184c28ec4>\u001b[0m in \u001b[0;36m<module>\u001b[0;34m\u001b[0m\n\u001b[0;32m----> 1\u001b[0;31m \u001b[0mmyfile\u001b[0m \u001b[0;34m=\u001b[0m \u001b[0mopen\u001b[0m\u001b[0;34m(\u001b[0m\u001b[0;34m)\u001b[0m\u001b[0;34m\u001b[0m\u001b[0;34m\u001b[0m\u001b[0m\n\u001b[0m",
      "\u001b[0;31mTypeError\u001b[0m: open() missing required argument 'file' (pos 1)"
     ]
    }
   ],
   "source": [
    "myfile = open()"
   ]
  },
  {
   "cell_type": "code",
   "execution_count": 3,
   "id": "norwegian-finger",
   "metadata": {},
   "outputs": [
    {
     "data": {
      "text/plain": [
       "'/home/Tower59/Documents/NLP'"
      ]
     },
     "execution_count": 3,
     "metadata": {},
     "output_type": "execute_result"
    }
   ],
   "source": [
    "pwd\n"
   ]
  },
  {
   "cell_type": "code",
   "execution_count": 4,
   "id": "numerous-facial",
   "metadata": {},
   "outputs": [],
   "source": [
    "myfile = open(\"text_test.txt\")"
   ]
  },
  {
   "cell_type": "code",
   "execution_count": 5,
   "id": "dependent-fifth",
   "metadata": {},
   "outputs": [
    {
     "data": {
      "text/plain": [
       "<_io.TextIOWrapper name='text_test.txt' mode='r' encoding='UTF-8'>"
      ]
     },
     "execution_count": 5,
     "metadata": {},
     "output_type": "execute_result"
    }
   ],
   "source": [
    "myfile"
   ]
  },
  {
   "cell_type": "code",
   "execution_count": 6,
   "id": "foreign-botswana",
   "metadata": {},
   "outputs": [
    {
     "name": "stdout",
     "output_type": "stream",
     "text": [
      "<_io.TextIOWrapper name='text_test.txt' mode='r' encoding='UTF-8'>\n"
     ]
    }
   ],
   "source": [
    "print(myfile)"
   ]
  },
  {
   "cell_type": "markdown",
   "id": "initial-mercy",
   "metadata": {},
   "source": [
    "*Alternatively, to grab files from any location on your computer, simply pass in the entire file path. *\n",
    "\n",
    "For Windows you need to use double \\ so python doesn't treat the second \\ as an escape character, a file path is in the form:\n",
    "\n",
    "myfile = open(\"C:\\\\Users\\\\YourUserName\\\\Home\\\\Folder\\\\myfile.txt\")\n",
    "For MacOS and Linux you use slashes in the opposite direction:\n",
    "\n",
    "myfile = open(\"/Users/YourUserName/Folder/myfile.txt\")"
   ]
  },
  {
   "cell_type": "code",
   "execution_count": 8,
   "id": "soviet-designation",
   "metadata": {},
   "outputs": [
    {
     "data": {
      "text/plain": [
       "'In west Philidelphia, born and raised. \\nOn the playground is where I spent most of my days.\\n'"
      ]
     },
     "execution_count": 8,
     "metadata": {},
     "output_type": "execute_result"
    }
   ],
   "source": [
    "myfile.read()"
   ]
  },
  {
   "cell_type": "markdown",
   "id": "broke-disability",
   "metadata": {},
   "source": [
    "myfile.read()"
   ]
  },
  {
   "cell_type": "code",
   "execution_count": 9,
   "id": "monetary-memorabilia",
   "metadata": {},
   "outputs": [
    {
     "data": {
      "text/plain": [
       "''"
      ]
     },
     "execution_count": 9,
     "metadata": {},
     "output_type": "execute_result"
    }
   ],
   "source": [
    "myfile.read()"
   ]
  },
  {
   "cell_type": "code",
   "execution_count": 10,
   "id": "strange-greeting",
   "metadata": {},
   "outputs": [
    {
     "data": {
      "text/plain": [
       "0"
      ]
     },
     "execution_count": 10,
     "metadata": {},
     "output_type": "execute_result"
    }
   ],
   "source": [
    "myfile.seek(0)"
   ]
  },
  {
   "cell_type": "code",
   "execution_count": 11,
   "id": "quantitative-lighter",
   "metadata": {},
   "outputs": [
    {
     "data": {
      "text/plain": [
       "'In west Philidelphia, born and raised. \\nOn the playground is where I spent most of my days.\\n'"
      ]
     },
     "execution_count": 11,
     "metadata": {},
     "output_type": "execute_result"
    }
   ],
   "source": [
    "myfile.read()"
   ]
  },
  {
   "cell_type": "code",
   "execution_count": 12,
   "id": "spread-mercury",
   "metadata": {},
   "outputs": [
    {
     "data": {
      "text/plain": [
       "0"
      ]
     },
     "execution_count": 12,
     "metadata": {},
     "output_type": "execute_result"
    }
   ],
   "source": [
    "myfile.seek(0)"
   ]
  },
  {
   "cell_type": "code",
   "execution_count": 13,
   "id": "removable-chase",
   "metadata": {},
   "outputs": [],
   "source": [
    "content = myfile.read()"
   ]
  },
  {
   "cell_type": "code",
   "execution_count": 14,
   "id": "national-honor",
   "metadata": {},
   "outputs": [
    {
     "name": "stdout",
     "output_type": "stream",
     "text": [
      "In west Philidelphia, born and raised. \n",
      "On the playground is where I spent most of my days.\n",
      "\n"
     ]
    }
   ],
   "source": [
    "print(content)"
   ]
  },
  {
   "cell_type": "code",
   "execution_count": 15,
   "id": "sharp-marble",
   "metadata": {},
   "outputs": [
    {
     "name": "stdout",
     "output_type": "stream",
     "text": [
      "In west Philidelphia, born and raised. \n",
      "On the playground is where I spent most of my days.\n",
      "\n"
     ]
    }
   ],
   "source": [
    "print(content)"
   ]
  },
  {
   "cell_type": "code",
   "execution_count": 16,
   "id": "impressed-democracy",
   "metadata": {},
   "outputs": [
    {
     "data": {
      "text/plain": [
       "'In west Philidelphia, born and raised. \\nOn the playground is where I spent most of my days.\\n'"
      ]
     },
     "execution_count": 16,
     "metadata": {},
     "output_type": "execute_result"
    }
   ],
   "source": [
    "content"
   ]
  },
  {
   "cell_type": "code",
   "execution_count": 19,
   "id": "arbitrary-monday",
   "metadata": {},
   "outputs": [],
   "source": [
    "myfile.close()"
   ]
  },
  {
   "cell_type": "code",
   "execution_count": 18,
   "id": "registered-shell",
   "metadata": {},
   "outputs": [
    {
     "data": {
      "text/plain": [
       "'In west Philidelphia, born and raised. \\nOn the playground is where I spent most of my days.\\n'"
      ]
     },
     "execution_count": 18,
     "metadata": {},
     "output_type": "execute_result"
    }
   ],
   "source": [
    "content"
   ]
  },
  {
   "cell_type": "code",
   "execution_count": 20,
   "id": "still-adjustment",
   "metadata": {},
   "outputs": [],
   "source": [
    "myfile.close()"
   ]
  },
  {
   "cell_type": "markdown",
   "id": "alone-slovak",
   "metadata": {},
   "source": [
    "^^^^ this is in case you try to open it from another file or computer. It could still be open in python and not allow access to this file?"
   ]
  },
  {
   "cell_type": "code",
   "execution_count": 22,
   "id": "cutting-debut",
   "metadata": {},
   "outputs": [],
   "source": [
    "myfile = open(\"text_test.txt\")"
   ]
  },
  {
   "cell_type": "code",
   "execution_count": 23,
   "id": "recreational-rouge",
   "metadata": {},
   "outputs": [
    {
     "data": {
      "text/plain": [
       "['In west Philidelphia, born and raised. \\n',\n",
       " 'On the playground is where I spent most of my days.\\n']"
      ]
     },
     "execution_count": 23,
     "metadata": {},
     "output_type": "execute_result"
    }
   ],
   "source": [
    "myfile.readlines()"
   ]
  },
  {
   "cell_type": "code",
   "execution_count": 24,
   "id": "native-thomson",
   "metadata": {},
   "outputs": [
    {
     "data": {
      "text/plain": [
       "0"
      ]
     },
     "execution_count": 24,
     "metadata": {},
     "output_type": "execute_result"
    }
   ],
   "source": [
    "myfile.seek(0)"
   ]
  },
  {
   "cell_type": "code",
   "execution_count": 25,
   "id": "precise-landscape",
   "metadata": {},
   "outputs": [],
   "source": [
    "mylines = myfile.readlines()"
   ]
  },
  {
   "cell_type": "code",
   "execution_count": 26,
   "id": "stopped-camel",
   "metadata": {},
   "outputs": [
    {
     "data": {
      "text/plain": [
       "['In west Philidelphia, born and raised. \\n',\n",
       " 'On the playground is where I spent most of my days.\\n']"
      ]
     },
     "execution_count": 26,
     "metadata": {},
     "output_type": "execute_result"
    }
   ],
   "source": [
    "mylines"
   ]
  },
  {
   "cell_type": "code",
   "execution_count": 27,
   "id": "comparative-twelve",
   "metadata": {},
   "outputs": [
    {
     "data": {
      "text/plain": [
       "'In west Philidelphia, born and raised. \\n'"
      ]
     },
     "execution_count": 27,
     "metadata": {},
     "output_type": "execute_result"
    }
   ],
   "source": [
    "mylines[0]"
   ]
  },
  {
   "cell_type": "code",
   "execution_count": 28,
   "id": "functional-movement",
   "metadata": {},
   "outputs": [
    {
     "data": {
      "text/plain": [
       "'On the playground is where I spent most of my days.\\n'"
      ]
     },
     "execution_count": 28,
     "metadata": {},
     "output_type": "execute_result"
    }
   ],
   "source": [
    "mylines[1]"
   ]
  },
  {
   "cell_type": "code",
   "execution_count": 30,
   "id": "marine-elevation",
   "metadata": {},
   "outputs": [
    {
     "name": "stdout",
     "output_type": "stream",
     "text": [
      "n\n",
      "n\n"
     ]
    }
   ],
   "source": [
    "for lines in mylines:\n",
    "    print(lines[1])"
   ]
  },
  {
   "cell_type": "code",
   "execution_count": 41,
   "id": "minute-portugal",
   "metadata": {},
   "outputs": [
    {
     "name": "stdout",
     "output_type": "stream",
     "text": [
      "west\n",
      "the\n"
     ]
    }
   ],
   "source": [
    "for lines in mylines:\n",
    "    print(lines.split()[1])"
   ]
  },
  {
   "cell_type": "code",
   "execution_count": null,
   "id": "wanted-jason",
   "metadata": {},
   "outputs": [],
   "source": []
  }
 ],
 "metadata": {
  "kernelspec": {
   "display_name": "Python 3",
   "language": "python",
   "name": "python3"
  },
  "language_info": {
   "codemirror_mode": {
    "name": "ipython",
    "version": 3
   },
   "file_extension": ".py",
   "mimetype": "text/x-python",
   "name": "python",
   "nbconvert_exporter": "python",
   "pygments_lexer": "ipython3",
   "version": "3.9.1"
  }
 },
 "nbformat": 4,
 "nbformat_minor": 5
}
