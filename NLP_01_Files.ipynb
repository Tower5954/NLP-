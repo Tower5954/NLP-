{
 "cells": [
  {
   "cell_type": "markdown",
   "id": "initial-survey",
   "metadata": {},
   "source": [
    "# Working with Files\n",
    "Python uses file objects to interact with external files on your computer. These file objects can be any sort of file you have on your computer, whether it be an audio file, a text file, emails, Excel documents, etc. Note: You will probably need to install certain libraries or modules to interact with those various file types, but they are easily available. (We will cover downloading modules later on in the course).\n",
    "\n",
    "Python has a built-in open function that allows us to open and play with basic file types. First we will need a file though. We're going to use some IPython magic to create a text file!"
   ]
  },
  {
   "cell_type": "markdown",
   "id": "brown-nudist",
   "metadata": {},
   "source": [
    "## Creating a text file with IPython\n",
    " This function is specific to jupyter notebooks! Alternatively, quickly create a simple .txt file with Sublime text editor."
   ]
  },
  {
   "cell_type": "code",
   "execution_count": 38,
   "id": "coral-glucose",
   "metadata": {},
   "outputs": [
    {
     "name": "stdout",
     "output_type": "stream",
     "text": [
      "Overwriting text_test.txt\n"
     ]
    }
   ],
   "source": [
    "%%writefile text_test.txt \n",
    "In west Philidelphia, born and raised. \n",
    "On the playground is where I spent most of my days."
   ]
  },
  {
   "cell_type": "code",
   "execution_count": 3,
   "id": "dying-edmonton",
   "metadata": {},
   "outputs": [],
   "source": [
    "myfile = open('text_test.txt')"
   ]
  },
  {
   "cell_type": "code",
   "execution_count": 4,
   "id": "hydraulic-nothing",
   "metadata": {},
   "outputs": [
    {
     "data": {
      "text/plain": [
       "'C:\\\\Users\\\\gthom\\\\NLP'"
      ]
     },
     "execution_count": 4,
     "metadata": {},
     "output_type": "execute_result"
    }
   ],
   "source": [
    "pwd"
   ]
  },
  {
   "cell_type": "code",
   "execution_count": 5,
   "id": "remarkable-kitty",
   "metadata": {},
   "outputs": [
    {
     "data": {
      "text/plain": [
       "<_io.TextIOWrapper name='text_test.txt' mode='r' encoding='cp1252'>"
      ]
     },
     "execution_count": 5,
     "metadata": {},
     "output_type": "execute_result"
    }
   ],
   "source": [
    "myfile"
   ]
  },
  {
   "cell_type": "code",
   "execution_count": 6,
   "id": "proprietary-plate",
   "metadata": {},
   "outputs": [
    {
     "name": "stdout",
     "output_type": "stream",
     "text": [
      "<_io.TextIOWrapper name='text_test.txt' mode='r' encoding='cp1252'>\n"
     ]
    }
   ],
   "source": [
    "print(myfile)"
   ]
  },
  {
   "cell_type": "markdown",
   "id": "powerful-johnson",
   "metadata": {},
   "source": [
    "### Reading a file"
   ]
  },
  {
   "cell_type": "code",
   "execution_count": 7,
   "id": "endless-chicken",
   "metadata": {},
   "outputs": [
    {
     "data": {
      "text/plain": [
       "'In west Philidelphia, born and raised. \\nOn the playground is where I spent most of my days.\\n'"
      ]
     },
     "execution_count": 7,
     "metadata": {},
     "output_type": "execute_result"
    }
   ],
   "source": [
    "myfile.read()\n"
   ]
  },
  {
   "cell_type": "code",
   "execution_count": 8,
   "id": "public-license",
   "metadata": {},
   "outputs": [
    {
     "data": {
      "text/plain": [
       "''"
      ]
     },
     "execution_count": 8,
     "metadata": {},
     "output_type": "execute_result"
    }
   ],
   "source": [
    "myfile.read()"
   ]
  },
  {
   "cell_type": "code",
   "execution_count": 9,
   "id": "embedded-sensitivity",
   "metadata": {},
   "outputs": [
    {
     "data": {
      "text/plain": [
       "0"
      ]
     },
     "execution_count": 9,
     "metadata": {},
     "output_type": "execute_result"
    }
   ],
   "source": [
    "myfile.seek(0)"
   ]
  },
  {
   "cell_type": "code",
   "execution_count": 10,
   "id": "successful-cornwall",
   "metadata": {},
   "outputs": [
    {
     "data": {
      "text/plain": [
       "'In west Philidelphia, born and raised. \\nOn the playground is where I spent most of my days.\\n'"
      ]
     },
     "execution_count": 10,
     "metadata": {},
     "output_type": "execute_result"
    }
   ],
   "source": [
    "myfile.read()"
   ]
  },
  {
   "cell_type": "code",
   "execution_count": 11,
   "id": "artistic-native",
   "metadata": {},
   "outputs": [
    {
     "data": {
      "text/plain": [
       "0"
      ]
     },
     "execution_count": 11,
     "metadata": {},
     "output_type": "execute_result"
    }
   ],
   "source": [
    "myfile.seek(0)"
   ]
  },
  {
   "cell_type": "code",
   "execution_count": 12,
   "id": "pressing-accordance",
   "metadata": {},
   "outputs": [],
   "source": [
    "content = myfile.read()"
   ]
  },
  {
   "cell_type": "code",
   "execution_count": 13,
   "id": "serial-viewer",
   "metadata": {},
   "outputs": [
    {
     "data": {
      "text/plain": [
       "'In west Philidelphia, born and raised. \\nOn the playground is where I spent most of my days.\\n'"
      ]
     },
     "execution_count": 13,
     "metadata": {},
     "output_type": "execute_result"
    }
   ],
   "source": [
    "content"
   ]
  },
  {
   "cell_type": "code",
   "execution_count": 14,
   "id": "beginning-samba",
   "metadata": {},
   "outputs": [
    {
     "data": {
      "text/plain": [
       "'In west Philidelphia, born and raised. \\nOn the playground is where I spent most of my days.\\n'"
      ]
     },
     "execution_count": 14,
     "metadata": {},
     "output_type": "execute_result"
    }
   ],
   "source": [
    "content"
   ]
  },
  {
   "cell_type": "code",
   "execution_count": 15,
   "id": "stupid-making",
   "metadata": {},
   "outputs": [
    {
     "name": "stdout",
     "output_type": "stream",
     "text": [
      "In west Philidelphia, born and raised. \n",
      "On the playground is where I spent most of my days.\n",
      "\n"
     ]
    }
   ],
   "source": [
    "print(content)"
   ]
  },
  {
   "cell_type": "markdown",
   "id": "exterior-concord",
   "metadata": {},
   "source": [
    " Like a usb device still attached. If you try to use a file from another device for example and the file has not been closed the file could become corrupted."
   ]
  },
  {
   "cell_type": "code",
   "execution_count": 16,
   "id": "willing-dream",
   "metadata": {},
   "outputs": [],
   "source": [
    "myfile.close()"
   ]
  },
  {
   "cell_type": "code",
   "execution_count": 23,
   "id": "racial-definition",
   "metadata": {},
   "outputs": [],
   "source": [
    "myfile = open('text_test.txt')"
   ]
  },
  {
   "cell_type": "code",
   "execution_count": 24,
   "id": "oriental-honey",
   "metadata": {},
   "outputs": [
    {
     "data": {
      "text/plain": [
       "['In west Philidelphia, born and raised. \\n',\n",
       " 'On the playground is where I spent most of my days.\\n']"
      ]
     },
     "execution_count": 24,
     "metadata": {},
     "output_type": "execute_result"
    }
   ],
   "source": [
    "myfile.readlines()"
   ]
  },
  {
   "cell_type": "code",
   "execution_count": 25,
   "id": "iraqi-behavior",
   "metadata": {},
   "outputs": [
    {
     "data": {
      "text/plain": [
       "0"
      ]
     },
     "execution_count": 25,
     "metadata": {},
     "output_type": "execute_result"
    }
   ],
   "source": [
    "myfile.seek(0)"
   ]
  },
  {
   "cell_type": "code",
   "execution_count": 26,
   "id": "national-titanium",
   "metadata": {},
   "outputs": [],
   "source": [
    "mylines = myfile.readlines()"
   ]
  },
  {
   "cell_type": "code",
   "execution_count": 27,
   "id": "weighted-productivity",
   "metadata": {},
   "outputs": [
    {
     "data": {
      "text/plain": [
       "['In west Philidelphia, born and raised. \\n',\n",
       " 'On the playground is where I spent most of my days.\\n']"
      ]
     },
     "execution_count": 27,
     "metadata": {},
     "output_type": "execute_result"
    }
   ],
   "source": [
    "mylines"
   ]
  },
  {
   "cell_type": "code",
   "execution_count": 28,
   "id": "fatal-black",
   "metadata": {},
   "outputs": [
    {
     "name": "stdout",
     "output_type": "stream",
     "text": [
      "I\n",
      "O\n"
     ]
    }
   ],
   "source": [
    "for line in mylines:\n",
    "    print(line[0])"
   ]
  },
  {
   "cell_type": "code",
   "execution_count": 30,
   "id": "competent-library",
   "metadata": {},
   "outputs": [
    {
     "name": "stdout",
     "output_type": "stream",
     "text": [
      "In\n",
      "On\n"
     ]
    }
   ],
   "source": [
    "for line in mylines:\n",
    "    print(line.split()[0])"
   ]
  },
  {
   "cell_type": "markdown",
   "id": "cardiovascular-saudi",
   "metadata": {},
   "source": [
    "### Writing to a file\n",
    "\n",
    "WARNING: Writing to a file will overwrite the existing text in the file. "
   ]
  },
  {
   "cell_type": "code",
   "execution_count": 32,
   "id": "dressed-davis",
   "metadata": {},
   "outputs": [],
   "source": [
    "myfile = open('text_test.txt', 'w+' )"
   ]
  },
  {
   "cell_type": "code",
   "execution_count": 33,
   "id": "electrical-square",
   "metadata": {},
   "outputs": [
    {
     "data": {
      "text/plain": [
       "''"
      ]
     },
     "execution_count": 33,
     "metadata": {},
     "output_type": "execute_result"
    }
   ],
   "source": [
    "myfile.read()"
   ]
  },
  {
   "cell_type": "code",
   "execution_count": 34,
   "id": "practical-master",
   "metadata": {},
   "outputs": [
    {
     "data": {
      "text/plain": [
       "20"
      ]
     },
     "execution_count": 34,
     "metadata": {},
     "output_type": "execute_result"
    }
   ],
   "source": [
    "myfile.write('GETTING JIGGY WIT IT')"
   ]
  },
  {
   "cell_type": "code",
   "execution_count": 35,
   "id": "humanitarian-madonna",
   "metadata": {},
   "outputs": [
    {
     "data": {
      "text/plain": [
       "0"
      ]
     },
     "execution_count": 35,
     "metadata": {},
     "output_type": "execute_result"
    }
   ],
   "source": [
    "myfile.seek(0)"
   ]
  },
  {
   "cell_type": "code",
   "execution_count": 36,
   "id": "loving-album",
   "metadata": {},
   "outputs": [
    {
     "data": {
      "text/plain": [
       "'GETTING JIGGY WIT IT'"
      ]
     },
     "execution_count": 36,
     "metadata": {},
     "output_type": "execute_result"
    }
   ],
   "source": [
    "myfile.read()"
   ]
  },
  {
   "cell_type": "code",
   "execution_count": 37,
   "id": "solar-response",
   "metadata": {},
   "outputs": [],
   "source": [
    "myfile.close()"
   ]
  },
  {
   "cell_type": "markdown",
   "id": "freelance-enemy",
   "metadata": {},
   "source": [
    "### Append a file"
   ]
  },
  {
   "cell_type": "markdown",
   "id": "fixed-stability",
   "metadata": {},
   "source": [
    "* Re-ran the first cell to get the original text file"
   ]
  },
  {
   "cell_type": "code",
   "execution_count": 40,
   "id": "twelve-output",
   "metadata": {},
   "outputs": [],
   "source": [
    "myfile = open('text_test.txt', 'a+')"
   ]
  },
  {
   "cell_type": "code",
   "execution_count": 41,
   "id": "manufactured-protein",
   "metadata": {},
   "outputs": [
    {
     "data": {
      "text/plain": [
       "21"
      ]
     },
     "execution_count": 41,
     "metadata": {},
     "output_type": "execute_result"
    }
   ],
   "source": [
    "myfile.write ('Getting jiggy wit it!')"
   ]
  },
  {
   "cell_type": "code",
   "execution_count": 42,
   "id": "engaged-amino",
   "metadata": {},
   "outputs": [],
   "source": [
    "myfile.close()"
   ]
  },
  {
   "cell_type": "code",
   "execution_count": 43,
   "id": "hybrid-crossing",
   "metadata": {},
   "outputs": [],
   "source": [
    "newfile = open('text_test.txt')"
   ]
  },
  {
   "cell_type": "code",
   "execution_count": 45,
   "id": "buried-tobacco",
   "metadata": {},
   "outputs": [
    {
     "data": {
      "text/plain": [
       "'In west Philidelphia, born and raised. \\nOn the playground is where I spent most of my days.\\nGetting jiggy wit it!'"
      ]
     },
     "execution_count": 45,
     "metadata": {},
     "output_type": "execute_result"
    }
   ],
   "source": [
    "newfile.read()"
   ]
  },
  {
   "cell_type": "code",
   "execution_count": 46,
   "id": "downtown-brunei",
   "metadata": {},
   "outputs": [
    {
     "ename": "UnsupportedOperation",
     "evalue": "not writable",
     "output_type": "error",
     "traceback": [
      "\u001b[1;31m---------------------------------------------------------------------------\u001b[0m",
      "\u001b[1;31mUnsupportedOperation\u001b[0m                      Traceback (most recent call last)",
      "\u001b[1;32m<ipython-input-46-ae296d899afa>\u001b[0m in \u001b[0;36m<module>\u001b[1;34m\u001b[0m\n\u001b[1;32m----> 1\u001b[1;33m \u001b[0mnewfile\u001b[0m\u001b[1;33m.\u001b[0m\u001b[0mwrite\u001b[0m\u001b[1;33m(\u001b[0m\u001b[1;34m'nah,nah,nah,nah,nah,nah,nah'\u001b[0m\u001b[1;33m)\u001b[0m\u001b[1;33m\u001b[0m\u001b[1;33m\u001b[0m\u001b[0m\n\u001b[0m",
      "\u001b[1;31mUnsupportedOperation\u001b[0m: not writable"
     ]
    }
   ],
   "source": [
    "newfile.write('nah,nah,nah,nah,nah,nah,nah')"
   ]
  },
  {
   "cell_type": "code",
   "execution_count": 47,
   "id": "instructional-electronics",
   "metadata": {},
   "outputs": [],
   "source": [
    "newfile.close()"
   ]
  },
  {
   "cell_type": "code",
   "execution_count": 48,
   "id": "accessory-shower",
   "metadata": {},
   "outputs": [],
   "source": [
    "myfile  = open('text_test.txt', 'a+')"
   ]
  },
  {
   "cell_type": "code",
   "execution_count": 49,
   "id": "collectible-biotechnology",
   "metadata": {},
   "outputs": [
    {
     "data": {
      "text/plain": [
       "27"
      ]
     },
     "execution_count": 49,
     "metadata": {},
     "output_type": "execute_result"
    }
   ],
   "source": [
    "myfile.write('nah,nah,nah,nah,nah,nah,nah')"
   ]
  },
  {
   "cell_type": "code",
   "execution_count": 50,
   "id": "bibliographic-redhead",
   "metadata": {},
   "outputs": [
    {
     "data": {
      "text/plain": [
       "0"
      ]
     },
     "execution_count": 50,
     "metadata": {},
     "output_type": "execute_result"
    }
   ],
   "source": [
    "myfile.seek(0)"
   ]
  },
  {
   "cell_type": "code",
   "execution_count": 51,
   "id": "adopted-society",
   "metadata": {},
   "outputs": [
    {
     "data": {
      "text/plain": [
       "'In west Philidelphia, born and raised. \\nOn the playground is where I spent most of my days.\\nGetting jiggy wit it!nah,nah,nah,nah,nah,nah,nah'"
      ]
     },
     "execution_count": 51,
     "metadata": {},
     "output_type": "execute_result"
    }
   ],
   "source": [
    "myfile.read()"
   ]
  },
  {
   "cell_type": "code",
   "execution_count": 52,
   "id": "serial-madagascar",
   "metadata": {},
   "outputs": [
    {
     "data": {
      "text/plain": [
       "36"
      ]
     },
     "execution_count": 52,
     "metadata": {},
     "output_type": "execute_result"
    }
   ],
   "source": [
    "myfile.write('\\n What? You wanna ball with the kid?')"
   ]
  },
  {
   "cell_type": "code",
   "execution_count": 53,
   "id": "magnetic-right",
   "metadata": {},
   "outputs": [
    {
     "data": {
      "text/plain": [
       "0"
      ]
     },
     "execution_count": 53,
     "metadata": {},
     "output_type": "execute_result"
    }
   ],
   "source": [
    "myfile.seek(0)"
   ]
  },
  {
   "cell_type": "code",
   "execution_count": 54,
   "id": "respected-humanitarian",
   "metadata": {},
   "outputs": [
    {
     "data": {
      "text/plain": [
       "'In west Philidelphia, born and raised. \\nOn the playground is where I spent most of my days.\\nGetting jiggy wit it!nah,nah,nah,nah,nah,nah,nah\\n What? You wanna ball with the kid?'"
      ]
     },
     "execution_count": 54,
     "metadata": {},
     "output_type": "execute_result"
    }
   ],
   "source": [
    "myfile.read()"
   ]
  },
  {
   "cell_type": "code",
   "execution_count": 55,
   "id": "therapeutic-billy",
   "metadata": {},
   "outputs": [],
   "source": [
    "myfile.close()"
   ]
  },
  {
   "cell_type": "markdown",
   "id": "black-auction",
   "metadata": {},
   "source": [
    "Known as a contents manager, we use a `with` function so we don't have to worry about closing the file after use."
   ]
  },
  {
   "cell_type": "code",
   "execution_count": 56,
   "id": "greek-tournament",
   "metadata": {},
   "outputs": [],
   "source": [
    "with open('text_test.txt', 'r') as newfile:\n",
    "    myvar = newfile.readlines()"
   ]
  },
  {
   "cell_type": "code",
   "execution_count": 57,
   "id": "awful-awareness",
   "metadata": {},
   "outputs": [
    {
     "data": {
      "text/plain": [
       "['In west Philidelphia, born and raised. \\n',\n",
       " 'On the playground is where I spent most of my days.\\n',\n",
       " 'Getting jiggy wit it!nah,nah,nah,nah,nah,nah,nah\\n',\n",
       " ' What? You wanna ball with the kid?']"
      ]
     },
     "execution_count": 57,
     "metadata": {},
     "output_type": "execute_result"
    }
   ],
   "source": [
    "myvar"
   ]
  },
  {
   "cell_type": "markdown",
   "id": "multiple-freeze",
   "metadata": {},
   "source": [
    "### Formating datetime\n",
    "\n",
    "https://strftime.org/\n",
    "\n"
   ]
  },
  {
   "cell_type": "code",
   "execution_count": 10,
   "id": "retired-editing",
   "metadata": {},
   "outputs": [],
   "source": [
    "from datetime import datetime"
   ]
  },
  {
   "cell_type": "code",
   "execution_count": 11,
   "id": "proprietary-hospital",
   "metadata": {},
   "outputs": [],
   "source": [
    "today = datetime(day=3,month=1,year=2022)"
   ]
  },
  {
   "cell_type": "code",
   "execution_count": 12,
   "id": "solid-picking",
   "metadata": {},
   "outputs": [
    {
     "name": "stdout",
     "output_type": "stream",
     "text": [
      "The date is 2022-01-03 00:00:00\n"
     ]
    }
   ],
   "source": [
    "print(f\"The date is {today}\")"
   ]
  },
  {
   "cell_type": "code",
   "execution_count": 13,
   "id": "tribal-amsterdam",
   "metadata": {},
   "outputs": [
    {
     "name": "stdout",
     "output_type": "stream",
     "text": [
      " January\n"
     ]
    }
   ],
   "source": [
    "print(f\"{today : %B}\")"
   ]
  },
  {
   "cell_type": "code",
   "execution_count": 14,
   "id": "wooden-glass",
   "metadata": {},
   "outputs": [
    {
     "name": "stdout",
     "output_type": "stream",
     "text": [
      "03 January\n"
     ]
    }
   ],
   "source": [
    "print(f\"{today :%d %B}\")"
   ]
  },
  {
   "cell_type": "code",
   "execution_count": 1,
   "id": "equivalent-russia",
   "metadata": {},
   "outputs": [
    {
     "ename": "NameError",
     "evalue": "name 'today' is not defined",
     "output_type": "error",
     "traceback": [
      "\u001b[1;31m---------------------------------------------------------------------------\u001b[0m",
      "\u001b[1;31mNameError\u001b[0m                                 Traceback (most recent call last)",
      "\u001b[1;32m<ipython-input-1-58745cf53939>\u001b[0m in \u001b[0;36m<module>\u001b[1;34m\u001b[0m\n\u001b[1;32m----> 1\u001b[1;33m \u001b[0mprint\u001b[0m\u001b[1;33m(\u001b[0m\u001b[1;34mf\"{today :%d%B%Y}\"\u001b[0m\u001b[1;33m)\u001b[0m\u001b[1;33m\u001b[0m\u001b[1;33m\u001b[0m\u001b[0m\n\u001b[0m",
      "\u001b[1;31mNameError\u001b[0m: name 'today' is not defined"
     ]
    }
   ],
   "source": [
    "print(f\"{today :%d%B%Y}\")"
   ]
  },
  {
   "cell_type": "markdown",
   "id": "unavailable-syntax",
   "metadata": {},
   "source": [
    "## Working with PDF Files"
   ]
  },
  {
   "cell_type": "markdown",
   "id": "important-surfing",
   "metadata": {},
   "source": [
    "You may need to read in text data from a PDF file.\n",
    "\n",
    "We can use the PyPDF2 library to read in text data from a PDF file.\n",
    "\n",
    "**Keep in mind that not all PDF files have text that can be extracted**\n",
    "\n",
    "Some PDFs are created through scanning, instead of being exported with a text editor like word.\n",
    "These scanned PDFs are more like an image, so this will make it a lot harder to extract text. Specialist software may be required. \n",
    "\n",
    "The PyPDF2 library is made to extract text files from PDFs that were directly created with a word processor."
   ]
  },
  {
   "cell_type": "code",
   "execution_count": 2,
   "id": "trained-currency",
   "metadata": {},
   "outputs": [],
   "source": [
    "import PyPDF2"
   ]
  },
  {
   "cell_type": "markdown",
   "id": "declared-stanford",
   "metadata": {},
   "source": [
    "### Opening a PDF in python"
   ]
  },
  {
   "cell_type": "code",
   "execution_count": 4,
   "id": "split-murray",
   "metadata": {},
   "outputs": [],
   "source": [
    "myfile = open('retail-evidential-pack-april-2016.pdf', mode='rb')"
   ]
  },
  {
   "cell_type": "code",
   "execution_count": 5,
   "id": "pursuant-second",
   "metadata": {},
   "outputs": [],
   "source": [
    "pdf_reader = PyPDF2.PdfFileReader(myfile)"
   ]
  },
  {
   "cell_type": "code",
   "execution_count": 6,
   "id": "latter-copper",
   "metadata": {},
   "outputs": [
    {
     "data": {
      "text/plain": [
       "20"
      ]
     },
     "execution_count": 6,
     "metadata": {},
     "output_type": "execute_result"
    }
   ],
   "source": [
    "pdf_reader.numPages"
   ]
  },
  {
   "cell_type": "code",
   "execution_count": 7,
   "id": "prostate-cache",
   "metadata": {},
   "outputs": [],
   "source": [
    "page_one = pdf_reader.getPage(0)"
   ]
  },
  {
   "cell_type": "code",
   "execution_count": 8,
   "id": "transsexual-layer",
   "metadata": {},
   "outputs": [
    {
     "data": {
      "text/plain": [
       "'Retail Crime Evidential Pack\\nTime, Day, Date of Incident\\nIncident Number Crime Number Full Name of Person \\n Completing PackOrganisation '"
      ]
     },
     "execution_count": 8,
     "metadata": {},
     "output_type": "execute_result"
    }
   ],
   "source": [
    "page_one.extractText()"
   ]
  },
  {
   "cell_type": "code",
   "execution_count": 9,
   "id": "prepared-compensation",
   "metadata": {},
   "outputs": [
    {
     "name": "stdout",
     "output_type": "stream",
     "text": [
      "Retail Crime Evidential Pack\n",
      "Time, Day, Date of Incident\n",
      "Incident Number Crime Number Full Name of Person \n",
      " Completing PackOrganisation \n"
     ]
    }
   ],
   "source": [
    "print(page_one.extractText())"
   ]
  },
  {
   "cell_type": "code",
   "execution_count": 10,
   "id": "broken-consultation",
   "metadata": {},
   "outputs": [],
   "source": [
    "my_text = page_one.extractText()"
   ]
  },
  {
   "cell_type": "code",
   "execution_count": 11,
   "id": "robust-grass",
   "metadata": {},
   "outputs": [],
   "source": [
    "myfile.close()"
   ]
  },
  {
   "cell_type": "markdown",
   "id": "married-fraud",
   "metadata": {},
   "source": [
    "### Appending a PDF\n",
    "\n",
    "**NOTE**: Writing onto a PDF may not be possible as there is a lot of variables like font, size etc. It may be best to append the PDF"
   ]
  },
  {
   "cell_type": "code",
   "execution_count": 12,
   "id": "adjacent-spokesman",
   "metadata": {},
   "outputs": [],
   "source": [
    "f = open('retail-evidential-pack-april-2016.pdf', 'rb')"
   ]
  },
  {
   "cell_type": "code",
   "execution_count": 13,
   "id": "junior-burton",
   "metadata": {},
   "outputs": [],
   "source": [
    "pdf_reader = PyPDF2.PdfFileReader(f)"
   ]
  },
  {
   "cell_type": "code",
   "execution_count": 14,
   "id": "indian-hobby",
   "metadata": {},
   "outputs": [],
   "source": [
    "first_page = pdf_reader.getPage(0)"
   ]
  },
  {
   "cell_type": "code",
   "execution_count": 15,
   "id": "editorial-interstate",
   "metadata": {},
   "outputs": [],
   "source": [
    "pdf_writer = PyPDF2.PdfFileWriter()"
   ]
  },
  {
   "cell_type": "code",
   "execution_count": 16,
   "id": "offshore-ending",
   "metadata": {},
   "outputs": [],
   "source": [
    "pdf_writer.addPage(first_page)"
   ]
  },
  {
   "cell_type": "code",
   "execution_count": 17,
   "id": "whole-mistress",
   "metadata": {},
   "outputs": [],
   "source": [
    "pdf_output = open('NEW_RETAIL_PDF.pdf', 'wb')"
   ]
  },
  {
   "cell_type": "code",
   "execution_count": 18,
   "id": "spread-separate",
   "metadata": {},
   "outputs": [],
   "source": [
    "pdf_writer.write(pdf_output)"
   ]
  },
  {
   "cell_type": "code",
   "execution_count": 19,
   "id": "developing-newcastle",
   "metadata": {},
   "outputs": [],
   "source": [
    "pdf_output.close()"
   ]
  },
  {
   "cell_type": "code",
   "execution_count": 20,
   "id": "immediate-canvas",
   "metadata": {},
   "outputs": [],
   "source": [
    "f.close()"
   ]
  },
  {
   "cell_type": "code",
   "execution_count": null,
   "id": "rocky-learning",
   "metadata": {},
   "outputs": [],
   "source": []
  },
  {
   "cell_type": "code",
   "execution_count": 21,
   "id": "latin-comfort",
   "metadata": {},
   "outputs": [],
   "source": [
    "brand_new = open('NEW_RETAIL_PDF.pdf', 'rb')\n",
    "\n",
    "pdf_reader = PyPDF2.PdfFileReader(brand_new)"
   ]
  },
  {
   "cell_type": "code",
   "execution_count": 23,
   "id": "integrated-factory",
   "metadata": {},
   "outputs": [
    {
     "data": {
      "text/plain": [
       "1"
      ]
     },
     "execution_count": 23,
     "metadata": {},
     "output_type": "execute_result"
    }
   ],
   "source": [
    "pdf_reader.numPages"
   ]
  },
  {
   "cell_type": "code",
   "execution_count": 24,
   "id": "commercial-prerequisite",
   "metadata": {},
   "outputs": [],
   "source": [
    "brand_new.close()"
   ]
  },
  {
   "cell_type": "markdown",
   "id": "mounted-understanding",
   "metadata": {},
   "source": [
    "### Copying all pages"
   ]
  },
  {
   "cell_type": "code",
   "execution_count": 25,
   "id": "broadband-malpractice",
   "metadata": {},
   "outputs": [],
   "source": [
    "f = open('retail-evidential-pack-april-2016.pdf', 'rb')\n",
    "\n",
    "pdf_text = []\n",
    "\n",
    "pdf_reader = PyPDF2.PdfFileReader(f)\n",
    "\n",
    "for p in range(pdf_reader.numPages):\n",
    "    page = pdf_reader.getPage(p)\n",
    "    \n",
    "    pdf_text.append(page.extractText())\n",
    "    \n",
    "f.close()\n",
    "    "
   ]
  },
  {
   "cell_type": "code",
   "execution_count": 26,
   "id": "horizontal-omaha",
   "metadata": {},
   "outputs": [
    {
     "data": {
      "text/plain": [
       "['Retail Crime Evidential Pack\\nTime, Day, Date of Incident\\nIncident Number Crime Number Full Name of Person \\n Completing PackOrganisation ',\n",
       " 'GuidanceRules for Written Statements\\nALWAYS:\\nŁ  Be accurate and truthful in what you saw and you heard\\n Ł  Include relevant information\\n Ł  Always use black ink\\n Ł  Write in a chronological sequence\\n Ł  Should be legible and neat\\n Ł  Use plain, simple English\\n Ł  Use block capitals for names/places\\n \\n \\n Ł  Always line out mistakes with a single line and initial (no tippex)\\n \\nNEVER:Ł  Include your opinion\\n Ł  Use jargon or abbreviations\\n Ł  Write too much\\n \\nMG11 Witness Statement\\n\\n to complete the following:   \\nŁ Occupation Ł  Dates to be avoided\\n  \\n\\nHowever, there is capacity for this information to be recorded on the back of the form, in case the CPS or Police need to \\n\\n\\n \\n',\n",
       " 'Witness Statement\\n\\n\\nAge if under 18:  \\n   \\n(if over 18 insert ‚over 18™)\\n Occupation:    This statement (consisting of page(s) each signed by me) is true to the best of my knowledge and belief and I make it knowing \\nthat, if it is tendered in evidence, I shall be liable to prosecution if I have wilfully stated in it, anything which I know to be false, or do not \\n\\nSignature:         \\nDate   Tick if witness evidence is visually recorded        (supply witness details on rear)\\nI am currently employed by\\n   \\n   at (full store address)\\n\\n\\n\\n\\n\\n\\n\\n(Witnessed offence)\\nAt    \\n hrs, on\\n        \\n I was working in the store when my\\nattention was drawn to a person / persons in the store because\\n\\n\\n(Witnessed on CCTV)As a result ofI checked the CCTV at\\n  \\n Hrs, on\\n    \\nand witnessed I would describe the person / persons as follows : (Ethnicity/Age/Sex/Hair/Build/Height/Complexion/Distinctive Features/Clothing)\\nMale / Female 1 (name if known)\\nSignature:      \\nSignature witnessed by:\\nRESTRICTEDRESTRICTEDRESTRICTED\\n',\n",
       " 'Witness contact detailsHome address:\\n          \\nPostcode:\\n\\n\\n\\n\\nPreferred means of contact (specify details): \\nBest time of contact (specify details):Male      Female  \\nDate and place of birth:\\nFormer name:\\n    \\nEthnicity Code (16 + 1)   \\nReligion / Belief (Specify  \\n        ) DATES OF WITNESS NON-AVAILABILITY: \\n Witness care \\n\\nMG6. \\nb) What can be done to ensure attendance?  c)  Does the witness require a Special Measures Assessment as a vulnerable or intimidated witness? \\n\\n MG2\\n\\n\\n(Disability, healthcare, \\n \\n\\n\\n\\n\\nRESTRICTEDRESTRICTEDWitness Consent (for witness completion)\\n\\n\\n\\n\\n\\n\\nc) I require my VPS to be read at court on my behalf / I wish to read VPS personally \\ndelete as appropriate\\n    \\n\\n\\n\\n\\n\\n  police Œ what happens next?ﬂ\\n        \\n\\n\\n\\n  to this matter (obtained in accordance with local practice)                          \\n\\n\\n\\n\\n\\n \\n\\ni)  The information recorded above will be disclosed to the Witness Service \\n \\nTick this box to decline their services:\\n\\n\\n\\n\\nAddress and telephone number if different from above:\\nStatement taken by (print name):\\n      \\nStation: Time and place statement taken:\\n',\n",
       " 'Continuation of Statement of:\\n \\n \\n I then observed the following (describe what you saw, include their behaviour, state if they were pushing/carrying anything, what was stolen, \\nvalue of items, where concealed, what your actions were, any admissions they made to you, viewing in person or on CCTV, how busy the \\nstore was, did they pass the last point of payment? were you able to detain them? \\n If not, where did they go and how did they get away?)\\nSignature:      \\nSignature witnessed by:\\nRESTRICTEDRESTRICTED',\n",
       " 'Continuation of Statement of:\\n The incident lasted for (time) \\n\\n\\n\\n\\n\\n\\n\\n\\n\\nVisibility was (describe quality of lighting) \\nThere were the following obstructions / no obstructions between us (describe if obstructions)\\nI know / I do not know the person(s) described (If known, state how/why?)\\n\\nThe total value of the property stolen is \\n\\nProperty \\n      \\n Value \\n     \\n(recovered      /not recovered      )\\nProperty \\n      \\n Value \\n     \\n(recovered      /not recovered      )   \\nProperty \\n      \\n Value \\n     \\n(recovered      /not recovered      )   \\nProperty \\n      \\n Value \\n     \\n(recovered      /not recovered      )   \\nProperty \\n      \\n Value \\n     \\n(recovered      /not recovered      )   \\nProperty \\n      \\n Value \\n     \\n(recovered      /not recovered      )   \\nProperty \\n      \\n Value \\n     \\n(recovered      /not recovered      )   \\nProperty \\n      \\n Value \\n     \\n(recovered      /not recovered      )   \\n\\n \\n\\n\\nSignature:      \\nSignature witnessed by:\\nRESTRICTEDRESTRICTED',\n",
       " 'Witness StatementRESTRICTEDRESTRICTED\\n\\n\\n\\nAge if under 18:  \\n   \\n(if over 18 insert ‚over 18™)\\n Occupation:    This statement (consisting of page(s) each signed by me) is true to the best of my knowledge and belief and I make it knowing \\nthat, if it is tendered in evidence, I shall be liable to prosecution if I have wilfully stated in it, anything which I know to be false, or do not \\n\\nSignature:         \\nDate   Tick if witness evidence is visually recorded        (supply witness details on rear)\\nI am an employee of\\nAt    \\n hrs, on\\n      \\nI caused a copy of CCTV footage to be burned to disc as per\\n\\n\\n\\n\\n\\n\\n\\n\\n\\n(If Applicable)At    \\nHrs, on\\n    \\n I handed this exhibit toSignature:      \\nSignature witnessed by:\\n',\n",
       " 'RESTRICTEDRESTRICTEDWitness contact detailsHome address:\\n          \\nPostcode:\\n\\n\\n\\n\\nPreferred means of contact (specify details): \\nBest time of contact (specify details):Male      Female  \\nDate and place of birth:\\nFormer name:\\n    \\nEthnicity Code (16 + 1)   \\nReligion / Belief (Specify  \\n        ) DATES OF WITNESS NON-AVAILABILITY: \\n Witness care \\n\\nMG6. \\nb) What can be done to ensure attendance?  c)  Does the witness require a Special Measures Assessment as a vulnerable or intimidated witness? \\n\\n MG2\\n\\n\\n(Disability, healthcare, \\n \\n\\n\\n\\n\\nWitness Consent (for witness completion)\\n\\n\\n\\n\\n\\n\\nc) I require my VPS to be read at court on my behalf / I wish to read VPS personally \\ndelete as appropriate\\n    \\n\\n\\n\\n\\n\\n  police Œ what happens next?ﬂ\\n        \\n\\n\\n\\n  to this matter (obtained in accordance with local practice)                          \\n\\n\\n\\n\\n\\n \\n\\ni)  The information recorded above will be disclosed to the Witness Service \\n \\nTick this box to decline their services:\\n\\n\\n\\n\\nAddress and telephone number if different from above:\\nStatement taken by (print name):\\n      \\nStation: Time and place statement taken:\\n',\n",
       " '    RESTRICTED (when complete)\\n RESTRICTED (when complete)\\n MG19\\n  2006/07(1)\\n COMPENSATION CLAIM\\n  For Police Use\\n R v   URN:      Offence:       Date of offence:          COMPENSATION FORM: NOTES FOR GUIDANCE\\n If you have any queries regarding completion of this form, contact \\n .............................................................................  The offence for which proceedings have been instituted may give rise to the question of compensa\\ntion. The relevant \\nsections of pages 2\\n-4 of this form should be completed clearly in \\nBLOCK CAPITALS\\n and returned to the police in \\nthe freepost envelope provided.\\n It is very important that this form is completed as soon as possible.  If sent to you by post \\nit m\\nust be returned within \\n14 days.  \\nFailure to return this form on time may lead to the case proceeding without an application for compensat\\nion \\nbeing made on your behalf.  \\nIf you do find that you require extra time, please contact the case clerk to see if\\n an extension is possible.\\n COMPLETE ONLY TH\\nE SECTIONS WHICH APPLY TO YOU.   \\nTHIS FORM MUST BE SIGNED AND \\nDATED ON PAGE 3.\\n PLEASE NOTE: the magistrate or judge will decide whether or not to order compensation. We have \\nno authority over this decision.\\n Person\\nal injury claims can also be pursued via the Criminal Injuries Compensation Authority \\n- please refer to the enclosed victim of crime leaflet for details.\\n A.  Property stolen (and not reco\\nvered) or damaged\\n  (N.B. in the case of road traffic collisions, please complete section D)\\n Relates to property stolen or damaged that has not been recovered by police. This section does not \\napply to damage caused in a road traffic collision \\n- please use \\nSection D.\\n It is important that you provide documentary \\nevidence to support your claim.  \\nThis means that copies \\nof receipts, estimates or bills should\\n be provided wherever possible.  \\nProperty recovered by police \\nbut not yet returned to you (due to it being\\n used in evidence) should not be claimed for, as this will be \\nrestored upon completion of the court case.\\n    Costs of \\nreplacement \\n        or repair \\n              (incl\\nuding\\n VAT).\\n Description of item(s): \\n Amount:\\n ..........................................................................................................................................................................................................................................................................................................................................................................................................................................................................................................................................................................................................................................................................................................................................................................................................................................................................................................................................................................................................................................................................................................................................................................................................................................................................................................................................................................................................................       ..................      ..................       ',\n",
       " '    RESTRICTED (when complete)\\n RESTRICTED (when complete)\\n MG19\\n  2006/07(1)\\n  B.  Other financial loss  Relates to other expenses.  For example:\\n ¥ Loss of earnings \\n- if you had to take unpaid time off work due to injuries sustained\\n ¥ Taxi fares \\n- due to being without your car as a result of a traffic collision / criminal \\n damage\\n ¥ Travelling expenses \\n- incurred by having to visit hospital / specialists as a result of \\ninjuries sustained.\\n It is important that you provide documentary evidence to support you\\nr claim.  This means \\ncopies of receipts, estimates or bills should be provided wherever possible.\\n Details of other \\nfinancial loss or \\nexpenses incurred \\nas a result of the \\noffence:\\n  Description of item(s): !!!!!!!!!!!!!!!!!!!!!!!!!!!!!!!!!!!!!!!!!!!!!!!!!!!!!!!!!!!!!!!!!!!!!!!!!!!!!!!!!!!!!!!!!!!!!!!!!!!!!!!!!!!!!!!!!!!!!!!!!!!!!!!!!!!!!!!!!!!!!!!!!!!!!!!!!!!!!!!!!!!!!!!!!!       Amount: \\n  C.  Personal injury   (Also include injury sustained as a result of a road traffic collis\\nion)\\n Relates to injuries sustained as the result of an assault or traffic collision. \\n It is important that you also fill in page 4 of \\nthis form, as we will need to obtain me\\ndical evidence on your behalf.  \\nPlease continue on a separate page if the space \\npro\\nvided is not sufficient.  In serious injury cases, where you may suffer long\\n-term effects, please keep the case clerk \\ninformed of your condition as the case progresses.\\n The police cannot obtain medical evidence on your behalf unless you have authorised us \\nto do so.  You MUST \\ncomplete and sign a form giving us authority to ask for details of your medical condition to be disclosed.  We can then \\ncontact the hospital, your GP or dentist and ask them to provide a statement detailing your injuries and treatment. \\n The police officer in charge may have already asked you to complete a form.  If not, please contact the case clerk as \\nsoon as possible.\\n   Nature of injuries: !.................................................................................................................................................................................................................................................................................................................................................................................................................................................................................................. Details of medical treatment received \\n(please also complete)\\n  !!!!!!!!!!!!!!!!!!!!!!!!!!!!!!!!!!!!!!!!!!!!!!!!!!!!!!!!!!!!!!!!!!!!!!!!!!!!!!!!!!!!!!!!!!!!!!!!!!!!!!!!!!!!!!!!!!!!!!!!!!!!!!!!!. Have you fully recovered?     Yes \\n    No     If ÔNoÕ, describe continuing ill effects: !!!!!!!!!!!!!!!!!!!!!!!!!!!!!!!!!!!!!!!!!!!!!!!!!!!!!!!!!!!!!!!!!!!!!!!!!!!!!!!!!!!!!! Total:\\n ',\n",
       " '    RESTRICTED (when complete)\\n RESTRICTED (when complete)\\n MG19\\n  2006/07(1)\\n D.  Road traffic collision / damage Relates to traffic collisions only.  It is important that you provide us with details of your insurance company so we can \\nliaise wit\\nh them during the prosecution.  \\nA copy of the bill / estimate r\\negarding damage MUST be attached.\\n  Description of damage: \\n  .................................................................................................................................................................................................................................................................................................................................................................................................................................................................................................................................................................................................................................................................... .........................................................................................................................................................................................................................................................................................................................................................................................................................................................................................................................................................................................................................................................................................................................................................................................................................................................................................................................................................................................................................................................................................................................................................................................................................................................................................................................................................................................................................................................................................................  Cost of repair: \\n  Written estimate / bill attached?    Yes  \\n   No    Name and address of your insurance com\\npany: \\n !!!!!!!!!!!!!!!!!!!!!!!!!!!!!!!!!!!!!!!!!!!!!!!!!!!!!!!!!!!!!!!!!!!!!!!!!!!!!!!!!!!!!!     E.  Insurance details It is important that you tell us of any claims you have already made or intend to make via your car / home / medical \\ninsurance.  Please\\n ensure that a copy of your claim form and\\n / or the companyÕs reply is attached to this form.\\n   Loss of Ôno claims bonusÕ?    Yes  \\n    No   If ÔYesÕ, please give amount: \\n  Excess on policy?                   \\nYes  \\n    No   If ÔYesÕ, please give amount: \\n  Confirmatory letter from insurance company attached?       Yes  \\n    No      Signed:  Date:     ',\n",
       " '    RESTRICTED (when complete)\\n RESTRICTED (when complete)\\n MG19\\n  2006/07(1)\\n     Details of doctor/dentist (personal injury cases ONLY) \\n 1.  Did you attend Accident and Emergency as \\na result of your injuries?\\n  1.  Did you attend Accident and emergency as a \\nresult of your injuries?\\n  1.  Did you attend Casualty as a result of your \\ninjuries? Yes    \\n    No       If ÔYesÕ, please confirm:\\n  Hospital:!!!!!!!!!!!!!!!!!!!!!!!!!!!!!!!!!!!!... Date of attendance:!!!!!!!!!!!!!!!!!!!!!!!!!!!!!!!... DoctorÕs name if known:!!!!!!!!!!!!!!!!!!!!!!!!!!!!!..   2.  Were you referred to a specialist /\\n other department?   Yes    \\n    No      If ÔYesÕ, please confirm: \\n  Hospital:!!!!!!!!!!!!!!!!!!!!!!!!!!!!!!!!!!!!. Date(s) of re-attendance(s):!!!!!!!!!!!!!!!!!!!!!!!!!!!!. Doctor / dentistÕs  name if known or departme\\nnt:!!!!!!!!!!!!!!!!!...    Personal details of claimant  Name:!!!!!!!!!!!!!!!!!!!!!!!!!!!!!!!!!!!!!. Address\\n:!!!!!!!!!!!!!!!!!!!!!!!!!!!!!!!!!!!!. !!!!!!!!!!!!!!!!!!!!!!!!!!!!!!!!!!!!!!!!.. Home telephone:!!!!!!!!!!!!!..  Business:!!!!!!!!!!!!!... E-mail address:!!!!!!!!!!!!!!!!!!!!!!!!!!!!!!!!!. 3.  Have you seen your GP\\n / dentist in relation to these injuries?   Yes    \\n    No      If ÔYesÕ, please confirm:\\n GP / dentistÕs name:!!!!!!!!!!!!!!!!!!!!!!!!!!!!!!!.. Surgery address\\n:!!!!!!!!!!!!!!!!!!!!!!!!!!!!!!!!... !!!!!!!!!!!!!!!!!!!!!!!!!!!!!!!!!!!!!!!!... Date of attendance(s):!!!!!!!!!!!!!!!!!!!!!!!!!!!!!!.. ',\n",
       " 'IMPACT STATEMENT FOR BUSINESS\\n Criminal Procedure Rules, r 27.2; Criminal Justice Act 1967, s. 9; Magistrates; \\nCourts Act 1980, s. 5B\\n The Impact Statement\\n for Business (ISB)\\n gives you the opportunity\\n to set out the impact \\nthat a crime has had on \\nthe busines\\ns such as direct financial loss,\\n and wider impacts, e.g.\\n operational disruption or reputational damage\\n. The court will take the statement into \\naccount when determining sentence.\\n In this statement y\\nou should not\\n provide an opinion or recommendation on the s\\nentence or \\nsanctions that the court should use\\n. This is for the court to decide\\n. You should limit the \\ninformation you give in this statement to the impact this \\nparticular\\n crime has had on \\nthe business\\n, rather than providing information on \\nhow any previous \\ncriminal activity\\n may have \\naffected\\n the business\\n (unless, for example, this crime results from the repeat offending of \\nthe same offender)\\n. The business\\n should consider carefully who to nominate as the representative to mak\\ne the statement on its behalf.  On\\nce you have completed this form, you should return it by email \\nor by post to your police contact.\\n A person making an ISB on behalf of a corporation\\n (Òthe nominated representative\\nÓ) must \\nbe authorised to do so on\\n its behalf. The nominated representative mus\\nt also be in a \\nposition to give evidence\\n that is admissible in court\\n about the impact of the crime on the \\nbusiness.\\n The nominated representative \\nmay be required to answer questions on \\nthe ISB\\n in court.\\n   You should be aware that if you \\nchoose not\\n to make a\\n statement at \\nthe outset of the \\nproceedings\\n, you may not have another opportunity to make one later on. This is \\nbecause \\nthe case may be dealt with by the courts very quickly\\n.   In more complex cases which may take longer to be dealt with by the courts, you\\n may wish \\nto take \\nmore\\n time to collect relevant information\\n, for example, accounts or other business \\ndocuments. T\\nhe police \\nwill be in touch\\n to let you know the date of\\n the first hearing date\\n and at that stage, you will need to make or update your ISB throu\\ngh your nominated \\nrepresentative. \\n Name of Business Affected\\n ________________________________________ Business Address\\n   ________________________________________ Contact name\\n   ________________________________________ Telephone Number\\n  _______________________________________ Address\\n    ________________________________________      ________________________________________ Crime Number    ________________________________________ Police Officer Attending\\n   ________________________________________ ',\n",
       " '1. Financial Imp\\nact Please check this box if the business suffered no financial losses as a result \\nof this crime. \\n  1.1 Direct financial losses\\n  These could include but are not limited to: \\n ¥ Assets lost or stolen \\n ¥ Damage to buildings and property\\n  Please e\\nxplain how your business has suffered a direct financial loss as a result of \\nthe crime.  \\n !!!!!!!!!!!!!!!!!!!!!',\n",
       " '1.2 Other, indirect financial costs \\n These could include but are not limited to: \\n ¥ Loss of custom\\n ¥ Impact on consumer confidence\\n ¥ Staff time\\n ¥ Expenditure on security measures\\n (e.g. physical infrastructure, IT)\\n ¥ Medical expenses\\n ¥ Costs of contractual staff\\n  Please e\\nxplain how your business has suffered \\nan indirect financial loss\\n as a result \\nof the crime.  \\n                      ',\n",
       " '2. Non\\n-Financial Impact\\n  Please explain how the incident\\n has had a non-financial impact on your business.\\n This could include: \\n ¥ Reputational d\\namage  ¥ Physical injuries sustained by staff or customers\\n                         ',\n",
       " '3.        Other comments \\n Please use this space to set out any further comments you wish t\\no make about the \\nimpact of the crime\\n on your business. \\n                            ',\n",
       " '4.        Do you intend to seek compensation as a result of the crime? \\n  Yes/ No\\n    Declaration\\n  The statement (consisting of \\n        page(s) signed by me) is true to the be\\nst of my \\nknowledge and belief and I make it knowing that, if it is tendered in evidence, I shall be \\nliable to prosecution if I have wilfully stated anything which I know to be false, or do not \\nbelieve to be true.\\n   Signed:   _______________________________\\n_____  Date:   ______________________________________\\n                              ',\n",
       " 'Annex : Case study\\n Kevin\\n is the Managing Director\\n of a medium-sized food retailer in Nottingham city centre\\n. At 8pm on a Saturday night\\n, a group of \\nfive male\\ns entered the st\\nore, assaulted two \\nmembers of staff and stole £210 from the cash register. They also damaged £30 worth of \\nstock, broke two windows, damaged a CCTV camera and assaulted two members of staff.  \\nThese members of staff decided to make Victim Personal Statements\\n to explain how the \\ncrime affected them in addition to the ISB form that Kevin decided to complete.\\n When completing the ISB form online, Kevin decided to include the following information to \\nexplain how the crime had affected the business:\\n Direct financial\\n losses ! £210 stolen from the cash register;\\n ! £30 worth of stock damaged;\\n ! Damage to buildings and property;\\n  ! £200 to replace the windows which \\nis being claimed back on insurance;\\n  Documentation was provided where possible to verify the financial losses.\\n Othe\\nr indirect financial costs\\n ! Two members of staff, Ahmed and Sally, suffered injuries which caused them both \\nto miss two weeks of work. This cost the business in additional outlay on Statutory \\nSick Pay and to recruit a temporary replacement.\\n ! The shop was clo\\nsed for two days whilst the clean\\n-up occurred and the windows \\nwere replaced. This caused additional financial loss in two days of trading when the \\naverage daily turnover of the business is £2,500 per day. This also hit consumer \\nconfidence and the average t\\nurnover fell sharply for two weeks after the incident.\\n ! Additional expenditure was also required on a new CCTV camera which was \\ndamaged in the incident.\\n Non-financial impacts\\n ! The temporary closure of the store hit consumer confidence and potentially has had\\n a long-term negative impact on the reputation of the business. \\n  ! Two customers reported receiving minor physical injuries in the incident. These \\ncustomers have not returned since the incident.\\n ',\n",
       " 'Checklist & Contact Details (To be retained by Store)\\n\\n\\n\\n\\n \\n Ł Has the CCTV been completed & Exhibited in the CCTV Statement?\\n\\n    \\n       Date    \\n        Time                                             \\n']"
      ]
     },
     "execution_count": 26,
     "metadata": {},
     "output_type": "execute_result"
    }
   ],
   "source": [
    "pdf_text"
   ]
  },
  {
   "cell_type": "code",
   "execution_count": 27,
   "id": "architectural-riding",
   "metadata": {},
   "outputs": [
    {
     "name": "stdout",
     "output_type": "stream",
     "text": [
      "Retail Crime Evidential Pack\n",
      "Time, Day, Date of Incident\n",
      "Incident Number Crime Number Full Name of Person \n",
      " Completing PackOrganisation \n",
      "\n",
      "\n",
      "\n",
      "\n",
      "\n",
      "\n",
      "\n",
      "\n",
      "\n",
      "\n",
      "GuidanceRules for Written Statements\n",
      "ALWAYS:\n",
      "Ł  Be accurate and truthful in what you saw and you heard\n",
      " Ł  Include relevant information\n",
      " Ł  Always use black ink\n",
      " Ł  Write in a chronological sequence\n",
      " Ł  Should be legible and neat\n",
      " Ł  Use plain, simple English\n",
      " Ł  Use block capitals for names/places\n",
      " \n",
      " \n",
      " Ł  Always line out mistakes with a single line and initial (no tippex)\n",
      " \n",
      "NEVER:Ł  Include your opinion\n",
      " Ł  Use jargon or abbreviations\n",
      " Ł  Write too much\n",
      " \n",
      "MG11 Witness Statement\n",
      "\n",
      " to complete the following:   \n",
      "Ł Occupation Ł  Dates to be avoided\n",
      "  \n",
      "\n",
      "However, there is capacity for this information to be recorded on the back of the form, in case the CPS or Police need to \n",
      "\n",
      "\n",
      " \n",
      "\n",
      "\n",
      "\n",
      "\n",
      "\n",
      "\n",
      "\n",
      "\n",
      "\n",
      "\n",
      "\n",
      "Witness Statement\n",
      "\n",
      "\n",
      "Age if under 18:  \n",
      "   \n",
      "(if over 18 insert ‚over 18™)\n",
      " Occupation:    This statement (consisting of page(s) each signed by me) is true to the best of my knowledge and belief and I make it knowing \n",
      "that, if it is tendered in evidence, I shall be liable to prosecution if I have wilfully stated in it, anything which I know to be false, or do not \n",
      "\n",
      "Signature:         \n",
      "Date   Tick if witness evidence is visually recorded        (supply witness details on rear)\n",
      "I am currently employed by\n",
      "   \n",
      "   at (full store address)\n",
      "\n",
      "\n",
      "\n",
      "\n",
      "\n",
      "\n",
      "\n",
      "(Witnessed offence)\n",
      "At    \n",
      " hrs, on\n",
      "        \n",
      " I was working in the store when my\n",
      "attention was drawn to a person / persons in the store because\n",
      "\n",
      "\n",
      "(Witnessed on CCTV)As a result ofI checked the CCTV at\n",
      "  \n",
      " Hrs, on\n",
      "    \n",
      "and witnessed I would describe the person / persons as follows : (Ethnicity/Age/Sex/Hair/Build/Height/Complexion/Distinctive Features/Clothing)\n",
      "Male / Female 1 (name if known)\n",
      "Signature:      \n",
      "Signature witnessed by:\n",
      "RESTRICTEDRESTRICTEDRESTRICTED\n",
      "\n",
      "\n",
      "\n",
      "\n",
      "\n",
      "\n",
      "\n",
      "\n",
      "\n",
      "\n",
      "\n",
      "Witness contact detailsHome address:\n",
      "          \n",
      "Postcode:\n",
      "\n",
      "\n",
      "\n",
      "\n",
      "Preferred means of contact (specify details): \n",
      "Best time of contact (specify details):Male      Female  \n",
      "Date and place of birth:\n",
      "Former name:\n",
      "    \n",
      "Ethnicity Code (16 + 1)   \n",
      "Religion / Belief (Specify  \n",
      "        ) DATES OF WITNESS NON-AVAILABILITY: \n",
      " Witness care \n",
      "\n",
      "MG6. \n",
      "b) What can be done to ensure attendance?  c)  Does the witness require a Special Measures Assessment as a vulnerable or intimidated witness? \n",
      "\n",
      " MG2\n",
      "\n",
      "\n",
      "(Disability, healthcare, \n",
      " \n",
      "\n",
      "\n",
      "\n",
      "\n",
      "RESTRICTEDRESTRICTEDWitness Consent (for witness completion)\n",
      "\n",
      "\n",
      "\n",
      "\n",
      "\n",
      "\n",
      "c) I require my VPS to be read at court on my behalf / I wish to read VPS personally \n",
      "delete as appropriate\n",
      "    \n",
      "\n",
      "\n",
      "\n",
      "\n",
      "\n",
      "  police Œ what happens next?ﬂ\n",
      "        \n",
      "\n",
      "\n",
      "\n",
      "  to this matter (obtained in accordance with local practice)                          \n",
      "\n",
      "\n",
      "\n",
      "\n",
      "\n",
      " \n",
      "\n",
      "i)  The information recorded above will be disclosed to the Witness Service \n",
      " \n",
      "Tick this box to decline their services:\n",
      "\n",
      "\n",
      "\n",
      "\n",
      "Address and telephone number if different from above:\n",
      "Statement taken by (print name):\n",
      "      \n",
      "Station: Time and place statement taken:\n",
      "\n",
      "\n",
      "\n",
      "\n",
      "\n",
      "\n",
      "\n",
      "\n",
      "\n",
      "\n",
      "\n",
      "Continuation of Statement of:\n",
      " \n",
      " \n",
      " I then observed the following (describe what you saw, include their behaviour, state if they were pushing/carrying anything, what was stolen, \n",
      "value of items, where concealed, what your actions were, any admissions they made to you, viewing in person or on CCTV, how busy the \n",
      "store was, did they pass the last point of payment? were you able to detain them? \n",
      " If not, where did they go and how did they get away?)\n",
      "Signature:      \n",
      "Signature witnessed by:\n",
      "RESTRICTEDRESTRICTED\n",
      "\n",
      "\n",
      "\n",
      "\n",
      "\n",
      "\n",
      "\n",
      "\n",
      "\n",
      "\n",
      "Continuation of Statement of:\n",
      " The incident lasted for (time) \n",
      "\n",
      "\n",
      "\n",
      "\n",
      "\n",
      "\n",
      "\n",
      "\n",
      "\n",
      "Visibility was (describe quality of lighting) \n",
      "There were the following obstructions / no obstructions between us (describe if obstructions)\n",
      "I know / I do not know the person(s) described (If known, state how/why?)\n",
      "\n",
      "The total value of the property stolen is \n",
      "\n",
      "Property \n",
      "      \n",
      " Value \n",
      "     \n",
      "(recovered      /not recovered      )\n",
      "Property \n",
      "      \n",
      " Value \n",
      "     \n",
      "(recovered      /not recovered      )   \n",
      "Property \n",
      "      \n",
      " Value \n",
      "     \n",
      "(recovered      /not recovered      )   \n",
      "Property \n",
      "      \n",
      " Value \n",
      "     \n",
      "(recovered      /not recovered      )   \n",
      "Property \n",
      "      \n",
      " Value \n",
      "     \n",
      "(recovered      /not recovered      )   \n",
      "Property \n",
      "      \n",
      " Value \n",
      "     \n",
      "(recovered      /not recovered      )   \n",
      "Property \n",
      "      \n",
      " Value \n",
      "     \n",
      "(recovered      /not recovered      )   \n",
      "Property \n",
      "      \n",
      " Value \n",
      "     \n",
      "(recovered      /not recovered      )   \n",
      "\n",
      " \n",
      "\n",
      "\n",
      "Signature:      \n",
      "Signature witnessed by:\n",
      "RESTRICTEDRESTRICTED\n",
      "\n",
      "\n",
      "\n",
      "\n",
      "\n",
      "\n",
      "\n",
      "\n",
      "\n",
      "\n",
      "Witness StatementRESTRICTEDRESTRICTED\n",
      "\n",
      "\n",
      "\n",
      "Age if under 18:  \n",
      "   \n",
      "(if over 18 insert ‚over 18™)\n",
      " Occupation:    This statement (consisting of page(s) each signed by me) is true to the best of my knowledge and belief and I make it knowing \n",
      "that, if it is tendered in evidence, I shall be liable to prosecution if I have wilfully stated in it, anything which I know to be false, or do not \n",
      "\n",
      "Signature:         \n",
      "Date   Tick if witness evidence is visually recorded        (supply witness details on rear)\n",
      "I am an employee of\n",
      "At    \n",
      " hrs, on\n",
      "      \n",
      "I caused a copy of CCTV footage to be burned to disc as per\n",
      "\n",
      "\n",
      "\n",
      "\n",
      "\n",
      "\n",
      "\n",
      "\n",
      "\n",
      "(If Applicable)At    \n",
      "Hrs, on\n",
      "    \n",
      " I handed this exhibit toSignature:      \n",
      "Signature witnessed by:\n",
      "\n",
      "\n",
      "\n",
      "\n",
      "\n",
      "\n",
      "\n",
      "\n",
      "\n",
      "\n",
      "\n",
      "RESTRICTEDRESTRICTEDWitness contact detailsHome address:\n",
      "          \n",
      "Postcode:\n",
      "\n",
      "\n",
      "\n",
      "\n",
      "Preferred means of contact (specify details): \n",
      "Best time of contact (specify details):Male      Female  \n",
      "Date and place of birth:\n",
      "Former name:\n",
      "    \n",
      "Ethnicity Code (16 + 1)   \n",
      "Religion / Belief (Specify  \n",
      "        ) DATES OF WITNESS NON-AVAILABILITY: \n",
      " Witness care \n",
      "\n",
      "MG6. \n",
      "b) What can be done to ensure attendance?  c)  Does the witness require a Special Measures Assessment as a vulnerable or intimidated witness? \n",
      "\n",
      " MG2\n",
      "\n",
      "\n",
      "(Disability, healthcare, \n",
      " \n",
      "\n",
      "\n",
      "\n",
      "\n",
      "Witness Consent (for witness completion)\n",
      "\n",
      "\n",
      "\n",
      "\n",
      "\n",
      "\n",
      "c) I require my VPS to be read at court on my behalf / I wish to read VPS personally \n",
      "delete as appropriate\n",
      "    \n",
      "\n",
      "\n",
      "\n",
      "\n",
      "\n",
      "  police Œ what happens next?ﬂ\n",
      "        \n",
      "\n",
      "\n",
      "\n",
      "  to this matter (obtained in accordance with local practice)                          \n",
      "\n",
      "\n",
      "\n",
      "\n",
      "\n",
      " \n",
      "\n",
      "i)  The information recorded above will be disclosed to the Witness Service \n",
      " \n",
      "Tick this box to decline their services:\n",
      "\n",
      "\n",
      "\n",
      "\n",
      "Address and telephone number if different from above:\n",
      "Statement taken by (print name):\n",
      "      \n",
      "Station: Time and place statement taken:\n",
      "\n",
      "\n",
      "\n",
      "\n",
      "\n",
      "\n",
      "\n",
      "\n",
      "\n",
      "\n",
      "\n",
      "    RESTRICTED (when complete)\n",
      " RESTRICTED (when complete)\n",
      " MG19\n",
      "  2006/07(1)\n",
      " COMPENSATION CLAIM\n",
      "  For Police Use\n",
      " R v   URN:      Offence:       Date of offence:          COMPENSATION FORM: NOTES FOR GUIDANCE\n",
      " If you have any queries regarding completion of this form, contact \n",
      " .............................................................................  The offence for which proceedings have been instituted may give rise to the question of compensa\n",
      "tion. The relevant \n",
      "sections of pages 2\n",
      "-4 of this form should be completed clearly in \n",
      "BLOCK CAPITALS\n",
      " and returned to the police in \n",
      "the freepost envelope provided.\n",
      " It is very important that this form is completed as soon as possible.  If sent to you by post \n",
      "it m\n",
      "ust be returned within \n",
      "14 days.  \n",
      "Failure to return this form on time may lead to the case proceeding without an application for compensat\n",
      "ion \n",
      "being made on your behalf.  \n",
      "If you do find that you require extra time, please contact the case clerk to see if\n",
      " an extension is possible.\n",
      " COMPLETE ONLY TH\n",
      "E SECTIONS WHICH APPLY TO YOU.   \n",
      "THIS FORM MUST BE SIGNED AND \n",
      "DATED ON PAGE 3.\n",
      " PLEASE NOTE: the magistrate or judge will decide whether or not to order compensation. We have \n",
      "no authority over this decision.\n",
      " Person\n",
      "al injury claims can also be pursued via the Criminal Injuries Compensation Authority \n",
      "- please refer to the enclosed victim of crime leaflet for details.\n",
      " A.  Property stolen (and not reco\n",
      "vered) or damaged\n",
      "  (N.B. in the case of road traffic collisions, please complete section D)\n",
      " Relates to property stolen or damaged that has not been recovered by police. This section does not \n",
      "apply to damage caused in a road traffic collision \n",
      "- please use \n",
      "Section D.\n",
      " It is important that you provide documentary \n",
      "evidence to support your claim.  \n",
      "This means that copies \n",
      "of receipts, estimates or bills should\n",
      " be provided wherever possible.  \n",
      "Property recovered by police \n",
      "but not yet returned to you (due to it being\n",
      " used in evidence) should not be claimed for, as this will be \n",
      "restored upon completion of the court case.\n",
      "    Costs of \n",
      "replacement \n",
      "        or repair \n",
      "              (incl\n",
      "uding\n",
      " VAT).\n",
      " Description of item(s): \n",
      " Amount:\n",
      " ..........................................................................................................................................................................................................................................................................................................................................................................................................................................................................................................................................................................................................................................................................................................................................................................................................................................................................................................................................................................................................................................................................................................................................................................................................................................................................................................................................................................................................................       ..................      ..................       \n",
      "\n",
      "\n",
      "\n",
      "\n",
      "\n",
      "\n",
      "\n",
      "\n",
      "\n",
      "\n",
      "    RESTRICTED (when complete)\n",
      " RESTRICTED (when complete)\n",
      " MG19\n",
      "  2006/07(1)\n",
      "  B.  Other financial loss  Relates to other expenses.  For example:\n",
      " ¥ Loss of earnings \n",
      "- if you had to take unpaid time off work due to injuries sustained\n",
      " ¥ Taxi fares \n",
      "- due to being without your car as a result of a traffic collision / criminal \n",
      " damage\n",
      " ¥ Travelling expenses \n",
      "- incurred by having to visit hospital / specialists as a result of \n",
      "injuries sustained.\n",
      " It is important that you provide documentary evidence to support you\n",
      "r claim.  This means \n",
      "copies of receipts, estimates or bills should be provided wherever possible.\n",
      " Details of other \n",
      "financial loss or \n",
      "expenses incurred \n",
      "as a result of the \n",
      "offence:\n",
      "  Description of item(s): !!!!!!!!!!!!!!!!!!!!!!!!!!!!!!!!!!!!!!!!!!!!!!!!!!!!!!!!!!!!!!!!!!!!!!!!!!!!!!!!!!!!!!!!!!!!!!!!!!!!!!!!!!!!!!!!!!!!!!!!!!!!!!!!!!!!!!!!!!!!!!!!!!!!!!!!!!!!!!!!!!!!!!!!!!       Amount: \n",
      "  C.  Personal injury   (Also include injury sustained as a result of a road traffic collis\n",
      "ion)\n",
      " Relates to injuries sustained as the result of an assault or traffic collision. \n",
      " It is important that you also fill in page 4 of \n",
      "this form, as we will need to obtain me\n",
      "dical evidence on your behalf.  \n",
      "Please continue on a separate page if the space \n",
      "pro\n",
      "vided is not sufficient.  In serious injury cases, where you may suffer long\n",
      "-term effects, please keep the case clerk \n",
      "informed of your condition as the case progresses.\n",
      " The police cannot obtain medical evidence on your behalf unless you have authorised us \n",
      "to do so.  You MUST \n",
      "complete and sign a form giving us authority to ask for details of your medical condition to be disclosed.  We can then \n",
      "contact the hospital, your GP or dentist and ask them to provide a statement detailing your injuries and treatment. \n",
      " The police officer in charge may have already asked you to complete a form.  If not, please contact the case clerk as \n",
      "soon as possible.\n",
      "   Nature of injuries: !.................................................................................................................................................................................................................................................................................................................................................................................................................................................................................................. Details of medical treatment received \n",
      "(please also complete)\n",
      "  !!!!!!!!!!!!!!!!!!!!!!!!!!!!!!!!!!!!!!!!!!!!!!!!!!!!!!!!!!!!!!!!!!!!!!!!!!!!!!!!!!!!!!!!!!!!!!!!!!!!!!!!!!!!!!!!!!!!!!!!!!!!!!!!!. Have you fully recovered?     Yes \n",
      "    No     If ÔNoÕ, describe continuing ill effects: !!!!!!!!!!!!!!!!!!!!!!!!!!!!!!!!!!!!!!!!!!!!!!!!!!!!!!!!!!!!!!!!!!!!!!!!!!!!!!!!!!!!!! Total:\n",
      " \n",
      "\n",
      "\n",
      "\n",
      "\n",
      "\n",
      "\n",
      "\n",
      "\n",
      "\n",
      "\n",
      "    RESTRICTED (when complete)\n",
      " RESTRICTED (when complete)\n",
      " MG19\n",
      "  2006/07(1)\n",
      " D.  Road traffic collision / damage Relates to traffic collisions only.  It is important that you provide us with details of your insurance company so we can \n",
      "liaise wit\n",
      "h them during the prosecution.  \n",
      "A copy of the bill / estimate r\n",
      "egarding damage MUST be attached.\n",
      "  Description of damage: \n",
      "  .................................................................................................................................................................................................................................................................................................................................................................................................................................................................................................................................................................................................................................................................... .........................................................................................................................................................................................................................................................................................................................................................................................................................................................................................................................................................................................................................................................................................................................................................................................................................................................................................................................................................................................................................................................................................................................................................................................................................................................................................................................................................................................................................................................................................................  Cost of repair: \n",
      "  Written estimate / bill attached?    Yes  \n",
      "   No    Name and address of your insurance com\n",
      "pany: \n",
      " !!!!!!!!!!!!!!!!!!!!!!!!!!!!!!!!!!!!!!!!!!!!!!!!!!!!!!!!!!!!!!!!!!!!!!!!!!!!!!!!!!!!!!     E.  Insurance details It is important that you tell us of any claims you have already made or intend to make via your car / home / medical \n",
      "insurance.  Please\n",
      " ensure that a copy of your claim form and\n",
      " / or the companyÕs reply is attached to this form.\n",
      "   Loss of Ôno claims bonusÕ?    Yes  \n",
      "    No   If ÔYesÕ, please give amount: \n",
      "  Excess on policy?                   \n",
      "Yes  \n",
      "    No   If ÔYesÕ, please give amount: \n",
      "  Confirmatory letter from insurance company attached?       Yes  \n",
      "    No      Signed:  Date:     \n",
      "\n",
      "\n",
      "\n",
      "\n",
      "\n",
      "\n",
      "\n",
      "\n",
      "\n",
      "\n",
      "    RESTRICTED (when complete)\n",
      " RESTRICTED (when complete)\n",
      " MG19\n",
      "  2006/07(1)\n",
      "     Details of doctor/dentist (personal injury cases ONLY) \n",
      " 1.  Did you attend Accident and Emergency as \n",
      "a result of your injuries?\n",
      "  1.  Did you attend Accident and emergency as a \n",
      "result of your injuries?\n",
      "  1.  Did you attend Casualty as a result of your \n",
      "injuries? Yes    \n",
      "    No       If ÔYesÕ, please confirm:\n",
      "  Hospital:!!!!!!!!!!!!!!!!!!!!!!!!!!!!!!!!!!!!... Date of attendance:!!!!!!!!!!!!!!!!!!!!!!!!!!!!!!!... DoctorÕs name if known:!!!!!!!!!!!!!!!!!!!!!!!!!!!!!..   2.  Were you referred to a specialist /\n",
      " other department?   Yes    \n",
      "    No      If ÔYesÕ, please confirm: \n",
      "  Hospital:!!!!!!!!!!!!!!!!!!!!!!!!!!!!!!!!!!!!. Date(s) of re-attendance(s):!!!!!!!!!!!!!!!!!!!!!!!!!!!!. Doctor / dentistÕs  name if known or departme\n",
      "nt:!!!!!!!!!!!!!!!!!...    Personal details of claimant  Name:!!!!!!!!!!!!!!!!!!!!!!!!!!!!!!!!!!!!!. Address\n",
      ":!!!!!!!!!!!!!!!!!!!!!!!!!!!!!!!!!!!!. !!!!!!!!!!!!!!!!!!!!!!!!!!!!!!!!!!!!!!!!.. Home telephone:!!!!!!!!!!!!!..  Business:!!!!!!!!!!!!!... E-mail address:!!!!!!!!!!!!!!!!!!!!!!!!!!!!!!!!!. 3.  Have you seen your GP\n",
      " / dentist in relation to these injuries?   Yes    \n",
      "    No      If ÔYesÕ, please confirm:\n",
      " GP / dentistÕs name:!!!!!!!!!!!!!!!!!!!!!!!!!!!!!!!.. Surgery address\n",
      ":!!!!!!!!!!!!!!!!!!!!!!!!!!!!!!!!... !!!!!!!!!!!!!!!!!!!!!!!!!!!!!!!!!!!!!!!!... Date of attendance(s):!!!!!!!!!!!!!!!!!!!!!!!!!!!!!!.. \n",
      "\n",
      "\n",
      "\n",
      "\n",
      "\n",
      "\n",
      "\n",
      "\n",
      "\n",
      "\n",
      "IMPACT STATEMENT FOR BUSINESS\n",
      " Criminal Procedure Rules, r 27.2; Criminal Justice Act 1967, s. 9; Magistrates; \n",
      "Courts Act 1980, s. 5B\n",
      " The Impact Statement\n",
      " for Business (ISB)\n",
      " gives you the opportunity\n",
      " to set out the impact \n",
      "that a crime has had on \n",
      "the busines\n",
      "s such as direct financial loss,\n",
      " and wider impacts, e.g.\n",
      " operational disruption or reputational damage\n",
      ". The court will take the statement into \n",
      "account when determining sentence.\n",
      " In this statement y\n",
      "ou should not\n",
      " provide an opinion or recommendation on the s\n",
      "entence or \n",
      "sanctions that the court should use\n",
      ". This is for the court to decide\n",
      ". You should limit the \n",
      "information you give in this statement to the impact this \n",
      "particular\n",
      " crime has had on \n",
      "the business\n",
      ", rather than providing information on \n",
      "how any previous \n",
      "criminal activity\n",
      " may have \n",
      "affected\n",
      " the business\n",
      " (unless, for example, this crime results from the repeat offending of \n",
      "the same offender)\n",
      ". The business\n",
      " should consider carefully who to nominate as the representative to mak\n",
      "e the statement on its behalf.  On\n",
      "ce you have completed this form, you should return it by email \n",
      "or by post to your police contact.\n",
      " A person making an ISB on behalf of a corporation\n",
      " (Òthe nominated representative\n",
      "Ó) must \n",
      "be authorised to do so on\n",
      " its behalf. The nominated representative mus\n",
      "t also be in a \n",
      "position to give evidence\n",
      " that is admissible in court\n",
      " about the impact of the crime on the \n",
      "business.\n",
      " The nominated representative \n",
      "may be required to answer questions on \n",
      "the ISB\n",
      " in court.\n",
      "   You should be aware that if you \n",
      "choose not\n",
      " to make a\n",
      " statement at \n",
      "the outset of the \n",
      "proceedings\n",
      ", you may not have another opportunity to make one later on. This is \n",
      "because \n",
      "the case may be dealt with by the courts very quickly\n",
      ".   In more complex cases which may take longer to be dealt with by the courts, you\n",
      " may wish \n",
      "to take \n",
      "more\n",
      " time to collect relevant information\n",
      ", for example, accounts or other business \n",
      "documents. T\n",
      "he police \n",
      "will be in touch\n",
      " to let you know the date of\n",
      " the first hearing date\n",
      " and at that stage, you will need to make or update your ISB throu\n",
      "gh your nominated \n",
      "representative. \n",
      " Name of Business Affected\n",
      " ________________________________________ Business Address\n",
      "   ________________________________________ Contact name\n",
      "   ________________________________________ Telephone Number\n",
      "  _______________________________________ Address\n",
      "    ________________________________________      ________________________________________ Crime Number    ________________________________________ Police Officer Attending\n",
      "   ________________________________________ \n",
      "\n",
      "\n",
      "\n",
      "\n",
      "\n",
      "\n",
      "\n",
      "\n",
      "\n",
      "\n",
      "1. Financial Imp\n",
      "act Please check this box if the business suffered no financial losses as a result \n",
      "of this crime. \n",
      "  1.1 Direct financial losses\n",
      "  These could include but are not limited to: \n",
      " ¥ Assets lost or stolen \n",
      " ¥ Damage to buildings and property\n",
      "  Please e\n",
      "xplain how your business has suffered a direct financial loss as a result of \n",
      "the crime.  \n",
      " !!!!!!!!!!!!!!!!!!!!!\n",
      "\n",
      "\n",
      "\n",
      "\n",
      "\n",
      "\n",
      "\n",
      "\n",
      "\n",
      "\n",
      "1.2 Other, indirect financial costs \n",
      " These could include but are not limited to: \n",
      " ¥ Loss of custom\n",
      " ¥ Impact on consumer confidence\n",
      " ¥ Staff time\n",
      " ¥ Expenditure on security measures\n",
      " (e.g. physical infrastructure, IT)\n",
      " ¥ Medical expenses\n",
      " ¥ Costs of contractual staff\n",
      "  Please e\n",
      "xplain how your business has suffered \n",
      "an indirect financial loss\n",
      " as a result \n",
      "of the crime.  \n",
      "                      \n",
      "\n",
      "\n",
      "\n",
      "\n",
      "\n",
      "\n",
      "\n",
      "\n",
      "\n",
      "\n",
      "2. Non\n",
      "-Financial Impact\n",
      "  Please explain how the incident\n",
      " has had a non-financial impact on your business.\n",
      " This could include: \n",
      " ¥ Reputational d\n",
      "amage  ¥ Physical injuries sustained by staff or customers\n",
      "                         \n",
      "\n",
      "\n",
      "\n",
      "\n",
      "\n",
      "\n",
      "\n",
      "\n",
      "\n",
      "\n",
      "3.        Other comments \n",
      " Please use this space to set out any further comments you wish t\n",
      "o make about the \n",
      "impact of the crime\n",
      " on your business. \n",
      "                            \n",
      "\n",
      "\n",
      "\n",
      "\n",
      "\n",
      "\n",
      "\n",
      "\n",
      "\n",
      "\n",
      "4.        Do you intend to seek compensation as a result of the crime? \n",
      "  Yes/ No\n",
      "    Declaration\n",
      "  The statement (consisting of \n",
      "        page(s) signed by me) is true to the be\n",
      "st of my \n",
      "knowledge and belief and I make it knowing that, if it is tendered in evidence, I shall be \n",
      "liable to prosecution if I have wilfully stated anything which I know to be false, or do not \n",
      "believe to be true.\n",
      "   Signed:   _______________________________\n",
      "_____  Date:   ______________________________________\n",
      "                              \n",
      "\n",
      "\n",
      "\n",
      "\n",
      "\n",
      "\n",
      "\n",
      "\n",
      "\n",
      "\n",
      "Annex : Case study\n",
      " Kevin\n",
      " is the Managing Director\n",
      " of a medium-sized food retailer in Nottingham city centre\n",
      ". At 8pm on a Saturday night\n",
      ", a group of \n",
      "five male\n",
      "s entered the st\n",
      "ore, assaulted two \n",
      "members of staff and stole £210 from the cash register. They also damaged £30 worth of \n",
      "stock, broke two windows, damaged a CCTV camera and assaulted two members of staff.  \n",
      "These members of staff decided to make Victim Personal Statements\n",
      " to explain how the \n",
      "crime affected them in addition to the ISB form that Kevin decided to complete.\n",
      " When completing the ISB form online, Kevin decided to include the following information to \n",
      "explain how the crime had affected the business:\n",
      " Direct financial\n",
      " losses ! £210 stolen from the cash register;\n",
      " ! £30 worth of stock damaged;\n",
      " ! Damage to buildings and property;\n",
      "  ! £200 to replace the windows which \n",
      "is being claimed back on insurance;\n",
      "  Documentation was provided where possible to verify the financial losses.\n",
      " Othe\n",
      "r indirect financial costs\n",
      " ! Two members of staff, Ahmed and Sally, suffered injuries which caused them both \n",
      "to miss two weeks of work. This cost the business in additional outlay on Statutory \n",
      "Sick Pay and to recruit a temporary replacement.\n",
      " ! The shop was clo\n",
      "sed for two days whilst the clean\n",
      "-up occurred and the windows \n",
      "were replaced. This caused additional financial loss in two days of trading when the \n",
      "average daily turnover of the business is £2,500 per day. This also hit consumer \n",
      "confidence and the average t\n",
      "urnover fell sharply for two weeks after the incident.\n",
      " ! Additional expenditure was also required on a new CCTV camera which was \n",
      "damaged in the incident.\n",
      " Non-financial impacts\n",
      " ! The temporary closure of the store hit consumer confidence and potentially has had\n",
      " a long-term negative impact on the reputation of the business. \n",
      "  ! Two customers reported receiving minor physical injuries in the incident. These \n",
      "customers have not returned since the incident.\n",
      " \n",
      "\n",
      "\n",
      "\n",
      "\n",
      "\n",
      "\n",
      "\n",
      "\n",
      "\n",
      "\n",
      "Checklist & Contact Details (To be retained by Store)\n",
      "\n",
      "\n",
      "\n",
      "\n",
      " \n",
      " Ł Has the CCTV been completed & Exhibited in the CCTV Statement?\n",
      "\n",
      "    \n",
      "       Date    \n",
      "        Time                                             \n",
      "\n",
      "\n",
      "\n",
      "\n",
      "\n",
      "\n",
      "\n",
      "\n",
      "\n",
      "\n",
      "\n"
     ]
    }
   ],
   "source": [
    "for page in pdf_text:\n",
    "    print(page)\n",
    "    print('\\n')\n",
    "    print('\\n')\n",
    "    print('\\n')\n",
    "    print('\\n')\n",
    "    print('\\n')"
   ]
  },
  {
   "cell_type": "code",
   "execution_count": null,
   "id": "educated-messenger",
   "metadata": {},
   "outputs": [],
   "source": []
  }
 ],
 "metadata": {
  "hide_input": false,
  "kernelspec": {
   "display_name": "Python 3",
   "language": "python",
   "name": "python3"
  },
  "language_info": {
   "codemirror_mode": {
    "name": "ipython",
    "version": 3
   },
   "file_extension": ".py",
   "mimetype": "text/x-python",
   "name": "python",
   "nbconvert_exporter": "python",
   "pygments_lexer": "ipython3",
   "version": "3.9.2"
  }
 },
 "nbformat": 4,
 "nbformat_minor": 5
}
