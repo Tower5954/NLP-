{
 "cells": [
  {
   "cell_type": "markdown",
   "id": "christian-firmware",
   "metadata": {},
   "source": [
    "# Working with Files\n",
    "Python uses file objects to interact with external files on your computer. These file objects can be any sort of file you have on your computer, whether it be an audio file, a text file, emails, Excel documents, etc. Note: You will probably need to install certain libraries or modules to interact with those various file types, but they are easily available. (We will cover downloading modules later on in the course).\n",
    "\n",
    "Python has a built-in open function that allows us to open and play with basic file types. First we will need a file though. We're going to use some IPython magic to create a text file!"
   ]
  },
  {
   "cell_type": "markdown",
   "id": "differential-killer",
   "metadata": {},
   "source": [
    "## Creating a File with IPython\n",
    "### This function is specific to jupyter notebooks! Alternatively, quickly create a simple .txt file with Sublime text editor."
   ]
  },
  {
   "cell_type": "code",
   "execution_count": 1,
   "id": "standard-october",
   "metadata": {},
   "outputs": [
    {
     "name": "stdout",
     "output_type": "stream",
     "text": [
      "Writing text_test.txt\n"
     ]
    }
   ],
   "source": [
    "%%writefile text_test.txt \n",
    "In west Philidelphia, born and raised. \n",
    "On the playground is where I spent most of my days."
   ]
  },
  {
   "cell_type": "code",
   "execution_count": 4,
   "id": "improved-claim",
   "metadata": {},
   "outputs": [],
   "source": [
    "myfile = open('text_test.txt')"
   ]
  },
  {
   "cell_type": "code",
   "execution_count": 5,
   "id": "affiliated-weight",
   "metadata": {},
   "outputs": [
    {
     "data": {
      "text/plain": [
       "'C:\\\\Users\\\\gthom'"
      ]
     },
     "execution_count": 5,
     "metadata": {},
     "output_type": "execute_result"
    }
   ],
   "source": [
    "pwd"
   ]
  },
  {
   "cell_type": "code",
   "execution_count": 6,
   "id": "human-korea",
   "metadata": {},
   "outputs": [
    {
     "data": {
      "text/plain": [
       "<_io.TextIOWrapper name='text_test.txt' mode='r' encoding='cp1252'>"
      ]
     },
     "execution_count": 6,
     "metadata": {},
     "output_type": "execute_result"
    }
   ],
   "source": [
    "myfile"
   ]
  },
  {
   "cell_type": "code",
   "execution_count": 7,
   "id": "sublime-wholesale",
   "metadata": {},
   "outputs": [
    {
     "name": "stdout",
     "output_type": "stream",
     "text": [
      "<_io.TextIOWrapper name='text_test.txt' mode='r' encoding='cp1252'>\n"
     ]
    }
   ],
   "source": [
    "print(myfile)"
   ]
  },
  {
   "cell_type": "code",
   "execution_count": 8,
   "id": "invisible-biodiversity",
   "metadata": {},
   "outputs": [
    {
     "data": {
      "text/plain": [
       "'In west Philidelphia, born and raised. \\nOn the playground is where I spent most of my days.\\n'"
      ]
     },
     "execution_count": 8,
     "metadata": {},
     "output_type": "execute_result"
    }
   ],
   "source": [
    "myfile.read()\n"
   ]
  },
  {
   "cell_type": "code",
   "execution_count": 9,
   "id": "foreign-capture",
   "metadata": {},
   "outputs": [
    {
     "data": {
      "text/plain": [
       "''"
      ]
     },
     "execution_count": 9,
     "metadata": {},
     "output_type": "execute_result"
    }
   ],
   "source": [
    "myfile.read()"
   ]
  },
  {
   "cell_type": "code",
   "execution_count": 10,
   "id": "aging-opportunity",
   "metadata": {},
   "outputs": [],
   "source": [
    "from datetime import datetime"
   ]
  },
  {
   "cell_type": "code",
   "execution_count": 11,
   "id": "careful-floating",
   "metadata": {},
   "outputs": [],
   "source": [
    "today = datetime(day=3,month=1,year=2022)"
   ]
  },
  {
   "cell_type": "code",
   "execution_count": 12,
   "id": "aquatic-declaration",
   "metadata": {},
   "outputs": [
    {
     "name": "stdout",
     "output_type": "stream",
     "text": [
      "The date is 2022-01-03 00:00:00\n"
     ]
    }
   ],
   "source": [
    "print(f\"The date is {today}\")"
   ]
  },
  {
   "cell_type": "markdown",
   "id": "configured-corps",
   "metadata": {},
   "source": [
    "### Formating datetime\n",
    "\n",
    "https://strftime.org/\n",
    "\n"
   ]
  },
  {
   "cell_type": "code",
   "execution_count": 13,
   "id": "increased-level",
   "metadata": {},
   "outputs": [
    {
     "name": "stdout",
     "output_type": "stream",
     "text": [
      " January\n"
     ]
    }
   ],
   "source": [
    "print(f\"{today : %B}\")"
   ]
  },
  {
   "cell_type": "code",
   "execution_count": 14,
   "id": "finished-comparative",
   "metadata": {},
   "outputs": [
    {
     "name": "stdout",
     "output_type": "stream",
     "text": [
      "03 January\n"
     ]
    }
   ],
   "source": [
    "print(f\"{today :%d %B}\")"
   ]
  },
  {
   "cell_type": "code",
   "execution_count": 15,
   "id": "animal-dairy",
   "metadata": {},
   "outputs": [
    {
     "name": "stdout",
     "output_type": "stream",
     "text": [
      "03January2022\n"
     ]
    }
   ],
   "source": [
    "print(f\"{today :%d%B%Y}\")"
   ]
  },
  {
   "cell_type": "code",
   "execution_count": null,
   "id": "sexual-asthma",
   "metadata": {},
   "outputs": [],
   "source": []
  }
 ],
 "metadata": {
  "hide_input": false,
  "kernelspec": {
   "display_name": "Python 3",
   "language": "python",
   "name": "python3"
  },
  "language_info": {
   "codemirror_mode": {
    "name": "ipython",
    "version": 3
   },
   "file_extension": ".py",
   "mimetype": "text/x-python",
   "name": "python",
   "nbconvert_exporter": "python",
   "pygments_lexer": "ipython3",
   "version": "3.9.2"
  }
 },
 "nbformat": 4,
 "nbformat_minor": 5
}
