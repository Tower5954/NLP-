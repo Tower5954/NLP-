{
 "cells": [
  {
   "cell_type": "markdown",
   "id": "nutritional-being",
   "metadata": {},
   "source": [
    "Before python3.6"
   ]
  },
  {
   "cell_type": "code",
   "execution_count": 1,
   "id": "interstate-thompson",
   "metadata": {},
   "outputs": [],
   "source": [
    "person = \"Jake\""
   ]
  },
  {
   "cell_type": "code",
   "execution_count": 2,
   "id": "passing-purpose",
   "metadata": {},
   "outputs": [
    {
     "name": "stdout",
     "output_type": "stream",
     "text": [
      "my name is Jake\n"
     ]
    }
   ],
   "source": [
    "print(\"my name is {}\".format(person))"
   ]
  },
  {
   "cell_type": "markdown",
   "id": "indian-silly",
   "metadata": {},
   "source": [
    "After python3.6"
   ]
  },
  {
   "cell_type": "code",
   "execution_count": 3,
   "id": "corporate-roller",
   "metadata": {},
   "outputs": [
    {
     "name": "stdout",
     "output_type": "stream",
     "text": [
      "My name is Jake\n"
     ]
    }
   ],
   "source": [
    "print(f\"My name is {person}\")"
   ]
  },
  {
   "cell_type": "code",
   "execution_count": 5,
   "id": "dental-pencil",
   "metadata": {},
   "outputs": [],
   "source": [
    "numbers = {'a':1234, 'b':1234}"
   ]
  },
  {
   "cell_type": "code",
   "execution_count": 6,
   "id": "intensive-cincinnati",
   "metadata": {},
   "outputs": [
    {
     "name": "stdout",
     "output_type": "stream",
     "text": [
      "My name is Jake, and my number is 1234\n"
     ]
    }
   ],
   "source": [
    "print(f\"My name is {person}, and my number is {numbers['a']}\")"
   ]
  },
  {
   "cell_type": "code",
   "execution_count": 10,
   "id": "spanish-implement",
   "metadata": {},
   "outputs": [],
   "source": [
    "my_list = [11,22,32,45,35,63]"
   ]
  },
  {
   "cell_type": "code",
   "execution_count": 11,
   "id": "tough-adventure",
   "metadata": {},
   "outputs": [
    {
     "name": "stdout",
     "output_type": "stream",
     "text": [
      "My name is Jake, and my number is 1234, and I am 35 years old. \n"
     ]
    }
   ],
   "source": [
    "print(f\"My name is {person}, and my number is {numbers['a']}, and I am {my_list[4]} years old. \")"
   ]
  },
  {
   "cell_type": "code",
   "execution_count": null,
   "id": "golden-night",
   "metadata": {},
   "outputs": [],
   "source": []
  }
 ],
 "metadata": {
  "kernelspec": {
   "display_name": "Python 3",
   "language": "python",
   "name": "python3"
  },
  "language_info": {
   "codemirror_mode": {
    "name": "ipython",
    "version": 3
   },
   "file_extension": ".py",
   "mimetype": "text/x-python",
   "name": "python",
   "nbconvert_exporter": "python",
   "pygments_lexer": "ipython3",
   "version": "3.9.1"
  }
 },
 "nbformat": 4,
 "nbformat_minor": 5
}
