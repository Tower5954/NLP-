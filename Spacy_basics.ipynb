{
 "cells": [
  {
   "cell_type": "markdown",
   "id": "latest-history",
   "metadata": {},
   "source": [
    "# Spacy Basics"
   ]
  },
  {
   "cell_type": "markdown",
   "id": "wrong-windsor",
   "metadata": {},
   "source": [
    "The **nlp()** function from Spacy automatically takes raw text and performs a series of operations to tag, parse, and describe the text data. "
   ]
  },
  {
   "cell_type": "code",
   "execution_count": null,
   "id": "flush-hierarchy",
   "metadata": {},
   "outputs": [],
   "source": []
  }
 ],
 "metadata": {
  "kernelspec": {
   "display_name": "Python 3",
   "language": "python",
   "name": "python3"
  },
  "language_info": {
   "codemirror_mode": {
    "name": "ipython",
    "version": 3
   },
   "file_extension": ".py",
   "mimetype": "text/x-python",
   "name": "python",
   "nbconvert_exporter": "python",
   "pygments_lexer": "ipython3",
   "version": "3.9.2"
  }
 },
 "nbformat": 4,
 "nbformat_minor": 5
}
