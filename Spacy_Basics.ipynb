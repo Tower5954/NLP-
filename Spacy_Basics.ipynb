{
  "nbformat": 4,
  "nbformat_minor": 0,
  "metadata": {
    "colab": {
      "name": "Spacy Basics.ipynb",
      "provenance": [],
      "authorship_tag": "ABX9TyP9xAGEhEqAioh1fJSvxNoL",
      "include_colab_link": true
    },
    "kernelspec": {
      "name": "python3",
      "display_name": "Python 3"
    },
    "language_info": {
      "name": "python"
    }
  },
  "cells": [
    {
      "cell_type": "markdown",
      "metadata": {
        "id": "view-in-github",
        "colab_type": "text"
      },
      "source": [
        "<a href=\"https://colab.research.google.com/github/Tower5954/NLP-/blob/main/Spacy_Basics.ipynb\" target=\"_parent\"><img src=\"https://colab.research.google.com/assets/colab-badge.svg\" alt=\"Open In Colab\"/></a>"
      ]
    },
    {
      "cell_type": "markdown",
      "source": [
        "# Spacy Basics"
      ],
      "metadata": {
        "id": "a-fm5qJrYCxm"
      }
    },
    {
      "cell_type": "code",
      "execution_count": 2,
      "metadata": {
        "id": "dPBjLt-IXoQt"
      },
      "outputs": [],
      "source": [
        "import spacy\n"
      ]
    },
    {
      "cell_type": "markdown",
      "source": [
        "The **nlp()** function from Spacy automatically takes raw text and performs a series of operations to tag, parse, and describe the text data. "
      ],
      "metadata": {
        "id": "zbYY4vtNXqNJ"
      }
    },
    {
      "cell_type": "markdown",
      "source": [
        "![pipeline1.png](data:image/png;base64,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)"
      ],
      "metadata": {
        "id": "FIt4fU-oq66w"
      }
    },
    {
      "cell_type": "markdown",
      "source": [
        "For more info and projects: [spaCy website](https://spacy.io/usage/spacy-101)"
      ],
      "metadata": {
        "id": "mHraahNqmQJ3"
      }
    },
    {
      "cell_type": "markdown",
      "source": [
        "### Loading "
      ],
      "metadata": {
        "id": "-jioJoHgbhsv"
      }
    },
    {
      "cell_type": "code",
      "source": [
        "nlp = spacy.load('en_core_web_sm')"
      ],
      "metadata": {
        "id": "QqC_8DS1YOI5"
      },
      "execution_count": 3,
      "outputs": []
    },
    {
      "cell_type": "code",
      "source": [
        "doc = nlp(u'Tesla is looking at buying U.S. startup for $6 milllion')"
      ],
      "metadata": {
        "id": "W0uUD4jsYW22"
      },
      "execution_count": 4,
      "outputs": []
    },
    {
      "cell_type": "code",
      "source": [
        "for token in doc:\n",
        "  print(token.text)"
      ],
      "metadata": {
        "colab": {
          "base_uri": "https://localhost:8080/"
        },
        "id": "YzcJC4b2Y6Be",
        "outputId": "e67e85df-6582-4ef8-da38-e45ea66e815f"
      },
      "execution_count": 5,
      "outputs": [
        {
          "output_type": "stream",
          "name": "stdout",
          "text": [
            "Tesla\n",
            "is\n",
            "looking\n",
            "at\n",
            "buying\n",
            "U.S.\n",
            "startup\n",
            "for\n",
            "$\n",
            "6\n",
            "milllion\n"
          ]
        }
      ]
    },
    {
      "cell_type": "code",
      "source": [
        "for token in doc:\n",
        "  print(token.text, token.pos)"
      ],
      "metadata": {
        "colab": {
          "base_uri": "https://localhost:8080/"
        },
        "id": "Xq_4rsbQZL78",
        "outputId": "a6fb57e1-4d96-45f6-f0c8-060dff68b682"
      },
      "execution_count": 6,
      "outputs": [
        {
          "output_type": "stream",
          "name": "stdout",
          "text": [
            "Tesla 96\n",
            "is 87\n",
            "looking 100\n",
            "at 85\n",
            "buying 100\n",
            "U.S. 96\n",
            "startup 92\n",
            "for 85\n",
            "$ 99\n",
            "6 93\n",
            "milllion 92\n"
          ]
        }
      ]
    },
    {
      "cell_type": "code",
      "source": [
        "for token in doc:\n",
        "  print(token.text, token.pos_)"
      ],
      "metadata": {
        "colab": {
          "base_uri": "https://localhost:8080/"
        },
        "id": "rRKSODGoZ3_Z",
        "outputId": "486753cf-aed9-452d-99ba-a4b1a70791bd"
      },
      "execution_count": 7,
      "outputs": [
        {
          "output_type": "stream",
          "name": "stdout",
          "text": [
            "Tesla PROPN\n",
            "is AUX\n",
            "looking VERB\n",
            "at ADP\n",
            "buying VERB\n",
            "U.S. PROPN\n",
            "startup NOUN\n",
            "for ADP\n",
            "$ SYM\n",
            "6 NUM\n",
            "milllion NOUN\n"
          ]
        }
      ]
    },
    {
      "cell_type": "markdown",
      "source": [
        "### Pipeline"
      ],
      "metadata": {
        "id": "liYUVqWXaa-7"
      }
    },
    {
      "cell_type": "code",
      "source": [
        "nlp.pipeline"
      ],
      "metadata": {
        "colab": {
          "base_uri": "https://localhost:8080/"
        },
        "id": "ExKaXE3RboZB",
        "outputId": "0e5d1156-c13f-4b29-8abb-c28a5cc78ab9"
      },
      "execution_count": 9,
      "outputs": [
        {
          "output_type": "execute_result",
          "data": {
            "text/plain": [
              "[('tagger', <spacy.pipeline.pipes.Tagger at 0x7fc65fcf5510>),\n",
              " ('parser', <spacy.pipeline.pipes.DependencyParser at 0x7fc65fe34ec0>),\n",
              " ('ner', <spacy.pipeline.pipes.EntityRecognizer at 0x7fc65fe34bb0>)]"
            ]
          },
          "metadata": {},
          "execution_count": 9
        }
      ]
    },
    {
      "cell_type": "code",
      "source": [
        "nlp.pipe_names"
      ],
      "metadata": {
        "colab": {
          "base_uri": "https://localhost:8080/"
        },
        "id": "-NdbCvu_bs-Y",
        "outputId": "f82ada1f-40a4-464a-fda6-d4a9d031edd8"
      },
      "execution_count": 10,
      "outputs": [
        {
          "output_type": "execute_result",
          "data": {
            "text/plain": [
              "['tagger', 'parser', 'ner']"
            ]
          },
          "metadata": {},
          "execution_count": 10
        }
      ]
    },
    {
      "cell_type": "code",
      "source": [
        "doc_2 = nlp(u\"Tesla isn't looking into startups anymore.\")"
      ],
      "metadata": {
        "id": "y3LMJ4j1b7Ue"
      },
      "execution_count": 14,
      "outputs": []
    },
    {
      "cell_type": "code",
      "source": [
        "for token in doc_2:\n",
        "  print(token)"
      ],
      "metadata": {
        "colab": {
          "base_uri": "https://localhost:8080/"
        },
        "id": "IY1BwTE4hVN1",
        "outputId": "2892514e-6cf3-4ee5-dab0-3e5bc320fd16"
      },
      "execution_count": 15,
      "outputs": [
        {
          "output_type": "stream",
          "name": "stdout",
          "text": [
            "Tesla\n",
            "is\n",
            "n't\n",
            "looking\n",
            "into\n",
            "startups\n",
            "anymore\n",
            ".\n"
          ]
        }
      ]
    },
    {
      "cell_type": "code",
      "source": [
        "for token in doc_2:\n",
        "  print(token.text, token.pos_)"
      ],
      "metadata": {
        "colab": {
          "base_uri": "https://localhost:8080/"
        },
        "id": "jt2t-0h9hedL",
        "outputId": "48ea83fa-ee54-4ec6-ed57-cb77804e03f1"
      },
      "execution_count": 17,
      "outputs": [
        {
          "output_type": "stream",
          "name": "stdout",
          "text": [
            "Tesla PROPN\n",
            "is AUX\n",
            "n't PART\n",
            "looking VERB\n",
            "into ADP\n",
            "startups NOUN\n",
            "anymore ADV\n",
            ". PUNCT\n"
          ]
        }
      ]
    },
    {
      "cell_type": "markdown",
      "source": [
        "### Additional Token Attributes\n",
        "We'll see these again in upcoming lectures. For now we just want to illustrate some of the other information that spaCy assigns to tokens:"
      ],
      "metadata": {
        "id": "b8fK9KqZpbIr"
      }
    },
    {
      "cell_type": "markdown",
      "source": [
        "|Tag|Description|doc2[0].tag|\n",
        "|:------|:------:|:------|\n",
        "|`.text`|The original word text<!-- .element: style=\"text-align:left;\" -->|`Tesla`|\n",
        "|`.lemma_`|The base form of the word|`tesla`|\n",
        "|`.pos_`|The simple part-of-speech tag|`PROPN`/`proper noun`|\n",
        "|`.tag_`|The detailed part-of-speech tag|`NNP`/`noun, proper singular`|\n",
        "|`.shape_`|The word shape – capitalization, punctuation, digits|`Xxxxx`|\n",
        "|`.is_alpha`|Is the token an alpha character?|`True`|\n",
        "|`.is_stop`|Is the token part of a stop list, i.e. the most common words of the language?|`False`|"
      ],
      "metadata": {
        "id": "9jOv9-0Fmc5M"
      }
    },
    {
      "cell_type": "markdown",
      "source": [
        "### Indexing"
      ],
      "metadata": {
        "id": "Lg8jsuw4hrJz"
      }
    },
    {
      "cell_type": "code",
      "source": [
        "doc_2[0]"
      ],
      "metadata": {
        "colab": {
          "base_uri": "https://localhost:8080/"
        },
        "id": "s4fUNuzniWOk",
        "outputId": "c62652a5-297a-46a0-fd91-cdeb99487abc"
      },
      "execution_count": 18,
      "outputs": [
        {
          "output_type": "execute_result",
          "data": {
            "text/plain": [
              "Tesla"
            ]
          },
          "metadata": {},
          "execution_count": 18
        }
      ]
    },
    {
      "cell_type": "code",
      "source": [
        "doc_2[5]"
      ],
      "metadata": {
        "colab": {
          "base_uri": "https://localhost:8080/"
        },
        "id": "6rkKxuXmiX6w",
        "outputId": "d5134067-e5ad-498c-de09-9a09908e5dd8"
      },
      "execution_count": 19,
      "outputs": [
        {
          "output_type": "execute_result",
          "data": {
            "text/plain": [
              "startups"
            ]
          },
          "metadata": {},
          "execution_count": 19
        }
      ]
    },
    {
      "cell_type": "code",
      "source": [
        "doc_2[0].pos_"
      ],
      "metadata": {
        "colab": {
          "base_uri": "https://localhost:8080/",
          "height": 35
        },
        "id": "7iow6F9SicbS",
        "outputId": "5758dea0-594d-44aa-e9e6-ca8cab670535"
      },
      "execution_count": 21,
      "outputs": [
        {
          "output_type": "execute_result",
          "data": {
            "application/vnd.google.colaboratory.intrinsic+json": {
              "type": "string"
            },
            "text/plain": [
              "'PROPN'"
            ]
          },
          "metadata": {},
          "execution_count": 21
        }
      ]
    },
    {
      "cell_type": "markdown",
      "source": [
        "### Spans\n",
        "\n",
        "Large Doc objects can be hard to work with at times. A **span** is a slice of Doc object in the form `Doc[start:stop]`."
      ],
      "metadata": {
        "id": "drgfB0vTqE2T"
      }
    },
    {
      "cell_type": "code",
      "source": [
        "doc3 = nlp(u'Although commmonly attributed to John Lennon from his song \"Beautiful Boy\", \\\n",
        "the phrase \"Life is what happens to us while we are making other plans\" was written by \\\n",
        "cartoonist Allen Saunders and published in Reader\\'s Digest in 1957, when Lennon was 17.')"
      ],
      "metadata": {
        "id": "TM_Dbs3SqlIm"
      },
      "execution_count": 22,
      "outputs": []
    },
    {
      "cell_type": "code",
      "source": [
        "life_quote = doc3[16:30]"
      ],
      "metadata": {
        "id": "6jboqKr1qs4q"
      },
      "execution_count": 23,
      "outputs": []
    },
    {
      "cell_type": "code",
      "source": [
        "print(life_quote)"
      ],
      "metadata": {
        "colab": {
          "base_uri": "https://localhost:8080/"
        },
        "id": "5ihL6C2RrkJS",
        "outputId": "6b06daec-70db-4700-e2b5-da11556969f4"
      },
      "execution_count": 24,
      "outputs": [
        {
          "output_type": "stream",
          "name": "stdout",
          "text": [
            "\"Life is what happens to us while we are making other plans\"\n"
          ]
        }
      ]
    },
    {
      "cell_type": "code",
      "source": [
        "type(life_quote)"
      ],
      "metadata": {
        "colab": {
          "base_uri": "https://localhost:8080/"
        },
        "id": "bGdJvQXzrqZt",
        "outputId": "f4e5fb44-45f4-4342-c3c2-4c1bed25ffae"
      },
      "execution_count": 25,
      "outputs": [
        {
          "output_type": "execute_result",
          "data": {
            "text/plain": [
              "spacy.tokens.span.Span"
            ]
          },
          "metadata": {},
          "execution_count": 25
        }
      ]
    },
    {
      "cell_type": "code",
      "source": [
        "type(doc3)"
      ],
      "metadata": {
        "colab": {
          "base_uri": "https://localhost:8080/"
        },
        "id": "spRsHMydtJwP",
        "outputId": "c8c0f7fe-324c-43e5-d9c3-4a75578fe5b6"
      },
      "execution_count": 26,
      "outputs": [
        {
          "output_type": "execute_result",
          "data": {
            "text/plain": [
              "spacy.tokens.doc.Doc"
            ]
          },
          "metadata": {},
          "execution_count": 26
        }
      ]
    },
    {
      "cell_type": "code",
      "source": [
        "doc4 = nlp(u\"This is the first sentence. This is the second sentence. This is the last sentence\")"
      ],
      "metadata": {
        "id": "Ax4p3RavtaJo"
      },
      "execution_count": 27,
      "outputs": []
    },
    {
      "cell_type": "code",
      "source": [
        "for sentence in doc4.sents:\n",
        "  print(sentence)"
      ],
      "metadata": {
        "colab": {
          "base_uri": "https://localhost:8080/"
        },
        "id": "eU2uqbQotxQU",
        "outputId": "621384a0-5ca2-4822-cab8-c4eb00c05a8e"
      },
      "execution_count": 28,
      "outputs": [
        {
          "output_type": "stream",
          "name": "stdout",
          "text": [
            "This is the first sentence.\n",
            "This is the second sentence.\n",
            "This is the last sentence\n"
          ]
        }
      ]
    },
    {
      "cell_type": "code",
      "source": [
        "doc4[4]"
      ],
      "metadata": {
        "colab": {
          "base_uri": "https://localhost:8080/"
        },
        "id": "0bIB0vXSuCWO",
        "outputId": "f46794d2-c49b-40b3-9f68-0daea4377442"
      },
      "execution_count": 29,
      "outputs": [
        {
          "output_type": "execute_result",
          "data": {
            "text/plain": [
              "sentence"
            ]
          },
          "metadata": {},
          "execution_count": 29
        }
      ]
    },
    {
      "cell_type": "code",
      "source": [
        "doc4[4].is_sent_start"
      ],
      "metadata": {
        "id": "2IMGjWmDuLtP"
      },
      "execution_count": 31,
      "outputs": []
    },
    {
      "cell_type": "code",
      "source": [
        "doc4[6].is_sent_start\n"
      ],
      "metadata": {
        "colab": {
          "base_uri": "https://localhost:8080/"
        },
        "id": "otyrVp24ub2N",
        "outputId": "f53dcdc2-1169-42f8-ebd9-a3531577c03a"
      },
      "execution_count": 32,
      "outputs": [
        {
          "output_type": "execute_result",
          "data": {
            "text/plain": [
              "True"
            ]
          },
          "metadata": {},
          "execution_count": 32
        }
      ]
    },
    {
      "cell_type": "code",
      "source": [
        ""
      ],
      "metadata": {
        "id": "AVoHJr47vDOB"
      },
      "execution_count": null,
      "outputs": []
    }
  ]
}