{
  "nbformat": 4,
  "nbformat_minor": 0,
  "metadata": {
    "colab": {
      "name": "Stemming.ipynb",
      "provenance": [],
      "authorship_tag": "ABX9TyO1neIrlku2zKlhcy+OExJP",
      "include_colab_link": true
    },
    "kernelspec": {
      "name": "python3",
      "display_name": "Python 3"
    },
    "language_info": {
      "name": "python"
    }
  },
  "cells": [
    {
      "cell_type": "markdown",
      "metadata": {
        "id": "view-in-github",
        "colab_type": "text"
      },
      "source": [
        "<a href=\"https://colab.research.google.com/github/Tower5954/NLP-/blob/main/Stemming.ipynb\" target=\"_parent\"><img src=\"https://colab.research.google.com/assets/colab-badge.svg\" alt=\"Open In Colab\"/></a>"
      ]
    },
    {
      "cell_type": "markdown",
      "source": [
        "# Stemming "
      ],
      "metadata": {
        "id": "dOHjObL_a4Lq"
      }
    },
    {
      "cell_type": "markdown",
      "source": [
        "Often when searching text for a certain keyword, it helps if the search returns variations of the word.\n",
        "\n",
        "For example, searching for the **boat** might also return \"boats\" and \"boating\". Here, \"boat\" would be the **stem** for [boat, boater, boating, boats]\n",
        "\n",
        "\n",
        "Stemming is a somewhat crude method for cataloging related words; it essentially chops off the end until the search is reached.\n",
        "\n",
        "This works fairly well in most cases, but unfortunately English has many exceptions where a more sophisticated process is required.\n",
        "\n",
        "In fact, spaCy doesn't include stemmer, opting instead to rely entirely on lemmanization.\n",
        "\n",
        "\n",
        "Because of this decision to not include Stemming in spaCy, we will jump over to using NLTK and learn about various Stemmers.\n",
        "\n",
        "We will go through, both the Porter Stemmer and the Snowball Stemmer.\n",
        "\n",
        "One of the most common - and - effective - stemming tool is Porter's Algorithm. Developed by Martin Porter in 1980.\n",
        "\n",
        "The algorithm employs 5 phases of word reduction, each with its own set of mapping rules."
      ],
      "metadata": {
        "id": "ijsCt8qKa_Ki"
      }
    }
  ]
}